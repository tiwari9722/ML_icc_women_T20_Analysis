{
 "cells": [
  {
   "cell_type": "code",
   "execution_count": 48,
   "id": "7cc9e6b4-6b2f-4bff-bc68-1b7c2dd3ac19",
   "metadata": {},
   "outputs": [],
   "source": [
    "import pandas as pd \n",
    "import matplotlib.pyplot as plt \n",
    "import seaborn as sns \n",
    "import numpy as np\n",
    "import scipy.stats as stats \n",
    "import pylab\n",
    "\n",
    "\n",
    "#Normalize Data \n",
    "from sklearn.preprocessing import StandardScaler\n",
    "\n",
    "# Concert Categorical to Numerical Value \n",
    "from sklearn.preprocessing import LabelEncoder\n",
    "\n",
    "#Columns Relationship for target value \n",
    "from sklearn.feature_selection import mutual_info_regression\n",
    "\n",
    "# Spilitting Data\n",
    "from sklearn.model_selection import train_test_split,cross_val_score\n",
    "\n",
    "#PCA\n",
    "from sklearn.decomposition import PCA\n",
    "\n",
    "#Model\n",
    "from sklearn.linear_model import LinearRegression\n",
    "from sklearn.ensemble import RandomForestRegressor\n",
    "from sklearn.tree import DecisionTreeRegressor\n",
    "\n",
    "#Metrics\n",
    "from sklearn.metrics import mean_absolute_error,mean_squared_error,r2_score"
   ]
  },
  {
   "cell_type": "code",
   "execution_count": 2,
   "id": "b43c9b58-530c-4a2e-a7b9-84fdc101af58",
   "metadata": {},
   "outputs": [
    {
     "data": {
      "text/html": [
       "<div>\n",
       "<style scoped>\n",
       "    .dataframe tbody tr th:only-of-type {\n",
       "        vertical-align: middle;\n",
       "    }\n",
       "\n",
       "    .dataframe tbody tr th {\n",
       "        vertical-align: top;\n",
       "    }\n",
       "\n",
       "    .dataframe thead th {\n",
       "        text-align: right;\n",
       "    }\n",
       "</style>\n",
       "<table border=\"1\" class=\"dataframe\">\n",
       "  <thead>\n",
       "    <tr style=\"text-align: right;\">\n",
       "      <th></th>\n",
       "      <th>Match_id</th>\n",
       "      <th>Team_1</th>\n",
       "      <th>Team_2</th>\n",
       "      <th>Venue</th>\n",
       "      <th>Stage</th>\n",
       "      <th>Toss_winner</th>\n",
       "      <th>Toss_decision</th>\n",
       "      <th>First_innings_score</th>\n",
       "      <th>First_innings_wkts</th>\n",
       "      <th>Second_innings_score</th>\n",
       "      <th>Second_innings_wkts</th>\n",
       "      <th>Winner</th>\n",
       "      <th>Player_of_the_match</th>\n",
       "    </tr>\n",
       "  </thead>\n",
       "  <tbody>\n",
       "    <tr>\n",
       "      <th>0</th>\n",
       "      <td>1</td>\n",
       "      <td>New Zealand</td>\n",
       "      <td>West Indies</td>\n",
       "      <td>Bay Oval, Mount Maunganui</td>\n",
       "      <td>Group</td>\n",
       "      <td>New Zealand</td>\n",
       "      <td>Field</td>\n",
       "      <td>259</td>\n",
       "      <td>9</td>\n",
       "      <td>256.0</td>\n",
       "      <td>10.0</td>\n",
       "      <td>West Indies</td>\n",
       "      <td>Hayley Matthews</td>\n",
       "    </tr>\n",
       "    <tr>\n",
       "      <th>1</th>\n",
       "      <td>2</td>\n",
       "      <td>Bangladesh</td>\n",
       "      <td>South Africa</td>\n",
       "      <td>University Oval, Dunedin</td>\n",
       "      <td>Group</td>\n",
       "      <td>Bangladesh</td>\n",
       "      <td>Field</td>\n",
       "      <td>207</td>\n",
       "      <td>10</td>\n",
       "      <td>175.0</td>\n",
       "      <td>10.0</td>\n",
       "      <td>South Africa</td>\n",
       "      <td>Ayabonga Khaka</td>\n",
       "    </tr>\n",
       "    <tr>\n",
       "      <th>2</th>\n",
       "      <td>3</td>\n",
       "      <td>Australia</td>\n",
       "      <td>England</td>\n",
       "      <td>Seddon Park, Hamilton</td>\n",
       "      <td>Group</td>\n",
       "      <td>England</td>\n",
       "      <td>Field</td>\n",
       "      <td>310</td>\n",
       "      <td>3</td>\n",
       "      <td>298.0</td>\n",
       "      <td>8.0</td>\n",
       "      <td>Australia</td>\n",
       "      <td>Rachael Haynes</td>\n",
       "    </tr>\n",
       "    <tr>\n",
       "      <th>3</th>\n",
       "      <td>4</td>\n",
       "      <td>Pakistan</td>\n",
       "      <td>India</td>\n",
       "      <td>Bay Oval, Mount Maunganui</td>\n",
       "      <td>Group</td>\n",
       "      <td>India</td>\n",
       "      <td>Bat</td>\n",
       "      <td>244</td>\n",
       "      <td>7</td>\n",
       "      <td>137.0</td>\n",
       "      <td>10.0</td>\n",
       "      <td>India</td>\n",
       "      <td>Pooja Vastrakar</td>\n",
       "    </tr>\n",
       "    <tr>\n",
       "      <th>4</th>\n",
       "      <td>5</td>\n",
       "      <td>New Zealand</td>\n",
       "      <td>Bangladesh</td>\n",
       "      <td>University Oval, Dunedin</td>\n",
       "      <td>Group</td>\n",
       "      <td>New Zealand</td>\n",
       "      <td>Field</td>\n",
       "      <td>140</td>\n",
       "      <td>8</td>\n",
       "      <td>144.0</td>\n",
       "      <td>1.0</td>\n",
       "      <td>New Zealand</td>\n",
       "      <td>Suzie Bates</td>\n",
       "    </tr>\n",
       "    <tr>\n",
       "      <th>5</th>\n",
       "      <td>6</td>\n",
       "      <td>Australia</td>\n",
       "      <td>Pakistan</td>\n",
       "      <td>Bay Oval, Mount Maunganui</td>\n",
       "      <td>Group</td>\n",
       "      <td>Australia</td>\n",
       "      <td>Field</td>\n",
       "      <td>190</td>\n",
       "      <td>6</td>\n",
       "      <td>193.0</td>\n",
       "      <td>3.0</td>\n",
       "      <td>Australia</td>\n",
       "      <td>Alyssa Healy</td>\n",
       "    </tr>\n",
       "    <tr>\n",
       "      <th>6</th>\n",
       "      <td>7</td>\n",
       "      <td>West Indies</td>\n",
       "      <td>England</td>\n",
       "      <td>University Oval, Dunedin</td>\n",
       "      <td>Group</td>\n",
       "      <td>West Indies</td>\n",
       "      <td>Bat</td>\n",
       "      <td>225</td>\n",
       "      <td>6</td>\n",
       "      <td>218.0</td>\n",
       "      <td>10.0</td>\n",
       "      <td>West Indies</td>\n",
       "      <td>Shemaine Campbelle</td>\n",
       "    </tr>\n",
       "    <tr>\n",
       "      <th>7</th>\n",
       "      <td>8</td>\n",
       "      <td>New Zealand</td>\n",
       "      <td>India</td>\n",
       "      <td>Seddon Park, Hamilton</td>\n",
       "      <td>Group</td>\n",
       "      <td>India</td>\n",
       "      <td>Field</td>\n",
       "      <td>260</td>\n",
       "      <td>9</td>\n",
       "      <td>198.0</td>\n",
       "      <td>10.0</td>\n",
       "      <td>New Zealand</td>\n",
       "      <td>Amy Satterthwait</td>\n",
       "    </tr>\n",
       "    <tr>\n",
       "      <th>8</th>\n",
       "      <td>9</td>\n",
       "      <td>Pakistan</td>\n",
       "      <td>South Africa</td>\n",
       "      <td>Bay Oval, Mount Maunganui</td>\n",
       "      <td>Group</td>\n",
       "      <td>Pakistan</td>\n",
       "      <td>Field</td>\n",
       "      <td>223</td>\n",
       "      <td>9</td>\n",
       "      <td>217.0</td>\n",
       "      <td>10.0</td>\n",
       "      <td>South Africa</td>\n",
       "      <td>Shabnim Ismail</td>\n",
       "    </tr>\n",
       "    <tr>\n",
       "      <th>9</th>\n",
       "      <td>10</td>\n",
       "      <td>West Indies</td>\n",
       "      <td>India</td>\n",
       "      <td>Seddon Park, Hamilton</td>\n",
       "      <td>Group</td>\n",
       "      <td>India</td>\n",
       "      <td>Bat</td>\n",
       "      <td>317</td>\n",
       "      <td>8</td>\n",
       "      <td>162.0</td>\n",
       "      <td>10.0</td>\n",
       "      <td>India</td>\n",
       "      <td>Smriti Mandhana</td>\n",
       "    </tr>\n",
       "    <tr>\n",
       "      <th>10</th>\n",
       "      <td>11</td>\n",
       "      <td>New Zealand</td>\n",
       "      <td>Australia</td>\n",
       "      <td>Basin Reserve, Wellington</td>\n",
       "      <td>Group</td>\n",
       "      <td>New Zealand</td>\n",
       "      <td>Field</td>\n",
       "      <td>269</td>\n",
       "      <td>8</td>\n",
       "      <td>128.0</td>\n",
       "      <td>10.0</td>\n",
       "      <td>Australia</td>\n",
       "      <td>Ellyse Perry</td>\n",
       "    </tr>\n",
       "    <tr>\n",
       "      <th>11</th>\n",
       "      <td>12</td>\n",
       "      <td>Pakistan</td>\n",
       "      <td>Bangladesh</td>\n",
       "      <td>Seddon Park, Hamilton</td>\n",
       "      <td>Group</td>\n",
       "      <td>Pakistan</td>\n",
       "      <td>Field</td>\n",
       "      <td>234</td>\n",
       "      <td>7</td>\n",
       "      <td>225.0</td>\n",
       "      <td>9.0</td>\n",
       "      <td>Bangladesh</td>\n",
       "      <td>Fahima Khatun</td>\n",
       "    </tr>\n",
       "    <tr>\n",
       "      <th>12</th>\n",
       "      <td>13</td>\n",
       "      <td>South Africa</td>\n",
       "      <td>England</td>\n",
       "      <td>Bay Oval, Mount Maunganui</td>\n",
       "      <td>Group</td>\n",
       "      <td>South Africa</td>\n",
       "      <td>Field</td>\n",
       "      <td>235</td>\n",
       "      <td>9</td>\n",
       "      <td>236.0</td>\n",
       "      <td>7.0</td>\n",
       "      <td>South Africa</td>\n",
       "      <td>Marizanne Kapp</td>\n",
       "    </tr>\n",
       "    <tr>\n",
       "      <th>13</th>\n",
       "      <td>14</td>\n",
       "      <td>Australia</td>\n",
       "      <td>West Indies</td>\n",
       "      <td>Basin Reserve, Wellington</td>\n",
       "      <td>Group</td>\n",
       "      <td>West Indies</td>\n",
       "      <td>Bat</td>\n",
       "      <td>131</td>\n",
       "      <td>10</td>\n",
       "      <td>132.0</td>\n",
       "      <td>3.0</td>\n",
       "      <td>Australia</td>\n",
       "      <td>Ellyse Perry</td>\n",
       "    </tr>\n",
       "    <tr>\n",
       "      <th>14</th>\n",
       "      <td>15</td>\n",
       "      <td>England</td>\n",
       "      <td>India</td>\n",
       "      <td>Bay Oval, Mount Maunganui</td>\n",
       "      <td>Group</td>\n",
       "      <td>England</td>\n",
       "      <td>Field</td>\n",
       "      <td>134</td>\n",
       "      <td>10</td>\n",
       "      <td>136.0</td>\n",
       "      <td>6.0</td>\n",
       "      <td>England</td>\n",
       "      <td>Charlotte Dean</td>\n",
       "    </tr>\n",
       "    <tr>\n",
       "      <th>15</th>\n",
       "      <td>16</td>\n",
       "      <td>New Zealand</td>\n",
       "      <td>South Africa</td>\n",
       "      <td>Seddon Park, Hamilton</td>\n",
       "      <td>Group</td>\n",
       "      <td>New Zealand</td>\n",
       "      <td>Bat</td>\n",
       "      <td>228</td>\n",
       "      <td>10</td>\n",
       "      <td>229.0</td>\n",
       "      <td>8.0</td>\n",
       "      <td>South Africa</td>\n",
       "      <td>Marizanne Kapp</td>\n",
       "    </tr>\n",
       "    <tr>\n",
       "      <th>16</th>\n",
       "      <td>17</td>\n",
       "      <td>Bangladesh</td>\n",
       "      <td>West Indies</td>\n",
       "      <td>Bay Oval, Mount Maunganui</td>\n",
       "      <td>Group</td>\n",
       "      <td>Bangladesh</td>\n",
       "      <td>Field</td>\n",
       "      <td>140</td>\n",
       "      <td>9</td>\n",
       "      <td>136.0</td>\n",
       "      <td>10.0</td>\n",
       "      <td>West Indies</td>\n",
       "      <td>\\nHayley Matthews</td>\n",
       "    </tr>\n",
       "    <tr>\n",
       "      <th>17</th>\n",
       "      <td>18</td>\n",
       "      <td>India</td>\n",
       "      <td>Australia</td>\n",
       "      <td>Eden Park, Auckland</td>\n",
       "      <td>Group</td>\n",
       "      <td>Australia</td>\n",
       "      <td>Field</td>\n",
       "      <td>277</td>\n",
       "      <td>7</td>\n",
       "      <td>280.0</td>\n",
       "      <td>4.0</td>\n",
       "      <td>Australia</td>\n",
       "      <td>Meg Lanning</td>\n",
       "    </tr>\n",
       "    <tr>\n",
       "      <th>18</th>\n",
       "      <td>19</td>\n",
       "      <td>New Zealand</td>\n",
       "      <td>England</td>\n",
       "      <td>Eden Park, Auckland</td>\n",
       "      <td>Group</td>\n",
       "      <td>England</td>\n",
       "      <td>Field</td>\n",
       "      <td>203</td>\n",
       "      <td>10</td>\n",
       "      <td>204.0</td>\n",
       "      <td>9.0</td>\n",
       "      <td>England</td>\n",
       "      <td>Nat Sciver</td>\n",
       "    </tr>\n",
       "    <tr>\n",
       "      <th>19</th>\n",
       "      <td>20</td>\n",
       "      <td>West Indies</td>\n",
       "      <td>Pakistan</td>\n",
       "      <td>Seddon Park, Hamilton</td>\n",
       "      <td>Group</td>\n",
       "      <td>Pakistan</td>\n",
       "      <td>Field</td>\n",
       "      <td>89</td>\n",
       "      <td>7</td>\n",
       "      <td>90.0</td>\n",
       "      <td>2.0</td>\n",
       "      <td>Pakistan</td>\n",
       "      <td>Nida Dar</td>\n",
       "    </tr>\n",
       "    <tr>\n",
       "      <th>20</th>\n",
       "      <td>21</td>\n",
       "      <td>South Africa</td>\n",
       "      <td>Australia</td>\n",
       "      <td>Basin Reserve, Wellington</td>\n",
       "      <td>Group</td>\n",
       "      <td>Australia</td>\n",
       "      <td>Field</td>\n",
       "      <td>271</td>\n",
       "      <td>5</td>\n",
       "      <td>272.0</td>\n",
       "      <td>5.0</td>\n",
       "      <td>Australia</td>\n",
       "      <td>Meg Lanning</td>\n",
       "    </tr>\n",
       "    <tr>\n",
       "      <th>21</th>\n",
       "      <td>22</td>\n",
       "      <td>India</td>\n",
       "      <td>Bangladesh</td>\n",
       "      <td>Seddon Park, Hamilton</td>\n",
       "      <td>Group</td>\n",
       "      <td>India</td>\n",
       "      <td>Bat</td>\n",
       "      <td>229</td>\n",
       "      <td>7</td>\n",
       "      <td>119.0</td>\n",
       "      <td>10.0</td>\n",
       "      <td>India</td>\n",
       "      <td>Yastika Bhatia</td>\n",
       "    </tr>\n",
       "    <tr>\n",
       "      <th>22</th>\n",
       "      <td>23</td>\n",
       "      <td>South Africa</td>\n",
       "      <td>West Indies</td>\n",
       "      <td>Basin Reserve, Wellington</td>\n",
       "      <td>Group</td>\n",
       "      <td>West Indies</td>\n",
       "      <td>Field</td>\n",
       "      <td>61</td>\n",
       "      <td>4</td>\n",
       "      <td>NaN</td>\n",
       "      <td>NaN</td>\n",
       "      <td>No Result</td>\n",
       "      <td>NaN</td>\n",
       "    </tr>\n",
       "    <tr>\n",
       "      <th>23</th>\n",
       "      <td>24</td>\n",
       "      <td>Pakistan</td>\n",
       "      <td>England</td>\n",
       "      <td>Hagley Oval , Christchurch</td>\n",
       "      <td>Group</td>\n",
       "      <td>England</td>\n",
       "      <td>Field</td>\n",
       "      <td>105</td>\n",
       "      <td>10</td>\n",
       "      <td>107.0</td>\n",
       "      <td>1.0</td>\n",
       "      <td>England</td>\n",
       "      <td>Danni Wyatt</td>\n",
       "    </tr>\n",
       "    <tr>\n",
       "      <th>24</th>\n",
       "      <td>25</td>\n",
       "      <td>Bangladesh</td>\n",
       "      <td>Australia</td>\n",
       "      <td>Basin Reserve, Wellington</td>\n",
       "      <td>Group</td>\n",
       "      <td>Australia</td>\n",
       "      <td>Field</td>\n",
       "      <td>135</td>\n",
       "      <td>6</td>\n",
       "      <td>136.0</td>\n",
       "      <td>5.0</td>\n",
       "      <td>Australia</td>\n",
       "      <td>Beth Mooney</td>\n",
       "    </tr>\n",
       "    <tr>\n",
       "      <th>25</th>\n",
       "      <td>26</td>\n",
       "      <td>New Zealand</td>\n",
       "      <td>Pakistan</td>\n",
       "      <td>Hagley Oval, Christchurch</td>\n",
       "      <td>Group</td>\n",
       "      <td>Pakistan</td>\n",
       "      <td>Field</td>\n",
       "      <td>265</td>\n",
       "      <td>8</td>\n",
       "      <td>194.0</td>\n",
       "      <td>9.0</td>\n",
       "      <td>New Zealand</td>\n",
       "      <td>Suzie Bates</td>\n",
       "    </tr>\n",
       "    <tr>\n",
       "      <th>26</th>\n",
       "      <td>27</td>\n",
       "      <td>England</td>\n",
       "      <td>Bangladesh</td>\n",
       "      <td>Basin Reserve, Wellington</td>\n",
       "      <td>Group</td>\n",
       "      <td>England</td>\n",
       "      <td>Bat</td>\n",
       "      <td>234</td>\n",
       "      <td>6</td>\n",
       "      <td>134.0</td>\n",
       "      <td>10.0</td>\n",
       "      <td>England</td>\n",
       "      <td>Sophia Dunkley</td>\n",
       "    </tr>\n",
       "    <tr>\n",
       "      <th>27</th>\n",
       "      <td>28</td>\n",
       "      <td>India</td>\n",
       "      <td>South Africa</td>\n",
       "      <td>Hagley Oval , Christchurch</td>\n",
       "      <td>Group</td>\n",
       "      <td>India</td>\n",
       "      <td>Bat</td>\n",
       "      <td>274</td>\n",
       "      <td>7</td>\n",
       "      <td>275.0</td>\n",
       "      <td>7.0</td>\n",
       "      <td>South Africa</td>\n",
       "      <td>Mignon du Preez</td>\n",
       "    </tr>\n",
       "    <tr>\n",
       "      <th>28</th>\n",
       "      <td>29</td>\n",
       "      <td>Australia</td>\n",
       "      <td>West Indies</td>\n",
       "      <td>Basin Reserve, Wellington</td>\n",
       "      <td>Semi Final</td>\n",
       "      <td>West Indies</td>\n",
       "      <td>Field</td>\n",
       "      <td>305</td>\n",
       "      <td>3</td>\n",
       "      <td>148.0</td>\n",
       "      <td>10.0</td>\n",
       "      <td>Australia</td>\n",
       "      <td>Alyssa Healy</td>\n",
       "    </tr>\n",
       "    <tr>\n",
       "      <th>29</th>\n",
       "      <td>30</td>\n",
       "      <td>England</td>\n",
       "      <td>South Africa</td>\n",
       "      <td>Hagley Oval , Christchurch</td>\n",
       "      <td>Semi Final</td>\n",
       "      <td>South Africa</td>\n",
       "      <td>Field</td>\n",
       "      <td>293</td>\n",
       "      <td>8</td>\n",
       "      <td>156.0</td>\n",
       "      <td>10.0</td>\n",
       "      <td>England</td>\n",
       "      <td>Danielle Wyatt</td>\n",
       "    </tr>\n",
       "    <tr>\n",
       "      <th>30</th>\n",
       "      <td>31</td>\n",
       "      <td>Australia</td>\n",
       "      <td>England</td>\n",
       "      <td>Hagley Oval , Christchurch</td>\n",
       "      <td>Final</td>\n",
       "      <td>England</td>\n",
       "      <td>Field</td>\n",
       "      <td>356</td>\n",
       "      <td>5</td>\n",
       "      <td>285.0</td>\n",
       "      <td>10.0</td>\n",
       "      <td>Australia</td>\n",
       "      <td>Alyssa Healy</td>\n",
       "    </tr>\n",
       "  </tbody>\n",
       "</table>\n",
       "</div>"
      ],
      "text/plain": [
       "    Match_id        Team_1        Team_2                       Venue  \\\n",
       "0          1   New Zealand   West Indies   Bay Oval, Mount Maunganui   \n",
       "1          2    Bangladesh  South Africa    University Oval, Dunedin   \n",
       "2          3     Australia       England       Seddon Park, Hamilton   \n",
       "3          4      Pakistan         India   Bay Oval, Mount Maunganui   \n",
       "4          5   New Zealand    Bangladesh    University Oval, Dunedin   \n",
       "5          6     Australia      Pakistan   Bay Oval, Mount Maunganui   \n",
       "6          7   West Indies       England    University Oval, Dunedin   \n",
       "7          8   New Zealand         India       Seddon Park, Hamilton   \n",
       "8          9      Pakistan  South Africa   Bay Oval, Mount Maunganui   \n",
       "9         10   West Indies         India       Seddon Park, Hamilton   \n",
       "10        11   New Zealand     Australia   Basin Reserve, Wellington   \n",
       "11        12      Pakistan    Bangladesh       Seddon Park, Hamilton   \n",
       "12        13  South Africa       England   Bay Oval, Mount Maunganui   \n",
       "13        14     Australia   West Indies   Basin Reserve, Wellington   \n",
       "14        15       England         India   Bay Oval, Mount Maunganui   \n",
       "15        16   New Zealand  South Africa       Seddon Park, Hamilton   \n",
       "16        17    Bangladesh   West Indies   Bay Oval, Mount Maunganui   \n",
       "17        18         India     Australia         Eden Park, Auckland   \n",
       "18        19   New Zealand       England         Eden Park, Auckland   \n",
       "19        20   West Indies      Pakistan       Seddon Park, Hamilton   \n",
       "20        21  South Africa     Australia   Basin Reserve, Wellington   \n",
       "21        22         India    Bangladesh       Seddon Park, Hamilton   \n",
       "22        23  South Africa   West Indies   Basin Reserve, Wellington   \n",
       "23        24      Pakistan       England  Hagley Oval , Christchurch   \n",
       "24        25    Bangladesh     Australia   Basin Reserve, Wellington   \n",
       "25        26   New Zealand      Pakistan   Hagley Oval, Christchurch   \n",
       "26        27       England    Bangladesh   Basin Reserve, Wellington   \n",
       "27        28         India  South Africa  Hagley Oval , Christchurch   \n",
       "28        29     Australia   West Indies   Basin Reserve, Wellington   \n",
       "29        30       England  South Africa  Hagley Oval , Christchurch   \n",
       "30        31     Australia       England  Hagley Oval , Christchurch   \n",
       "\n",
       "         Stage   Toss_winner Toss_decision  First_innings_score  \\\n",
       "0        Group   New Zealand         Field                  259   \n",
       "1        Group    Bangladesh         Field                  207   \n",
       "2        Group       England         Field                  310   \n",
       "3        Group         India           Bat                  244   \n",
       "4        Group   New Zealand         Field                  140   \n",
       "5        Group     Australia         Field                  190   \n",
       "6        Group   West Indies           Bat                  225   \n",
       "7        Group         India         Field                  260   \n",
       "8        Group      Pakistan         Field                  223   \n",
       "9        Group         India           Bat                  317   \n",
       "10       Group   New Zealand         Field                  269   \n",
       "11       Group      Pakistan         Field                  234   \n",
       "12       Group  South Africa         Field                  235   \n",
       "13       Group   West Indies           Bat                  131   \n",
       "14       Group       England         Field                  134   \n",
       "15       Group   New Zealand           Bat                  228   \n",
       "16       Group    Bangladesh         Field                  140   \n",
       "17       Group     Australia         Field                  277   \n",
       "18       Group       England         Field                  203   \n",
       "19       Group      Pakistan         Field                   89   \n",
       "20       Group     Australia         Field                  271   \n",
       "21       Group         India           Bat                  229   \n",
       "22       Group   West Indies         Field                   61   \n",
       "23       Group       England         Field                  105   \n",
       "24       Group     Australia         Field                  135   \n",
       "25       Group      Pakistan         Field                  265   \n",
       "26       Group       England           Bat                  234   \n",
       "27       Group         India           Bat                  274   \n",
       "28  Semi Final   West Indies         Field                  305   \n",
       "29  Semi Final  South Africa         Field                  293   \n",
       "30       Final       England         Field                  356   \n",
       "\n",
       "    First_innings_wkts  Second_innings_score  Second_innings_wkts  \\\n",
       "0                    9                 256.0                 10.0   \n",
       "1                   10                 175.0                 10.0   \n",
       "2                    3                 298.0                  8.0   \n",
       "3                    7                 137.0                 10.0   \n",
       "4                    8                 144.0                  1.0   \n",
       "5                    6                 193.0                  3.0   \n",
       "6                    6                 218.0                 10.0   \n",
       "7                    9                 198.0                 10.0   \n",
       "8                    9                 217.0                 10.0   \n",
       "9                    8                 162.0                 10.0   \n",
       "10                   8                 128.0                 10.0   \n",
       "11                   7                 225.0                  9.0   \n",
       "12                   9                 236.0                  7.0   \n",
       "13                  10                 132.0                  3.0   \n",
       "14                  10                 136.0                  6.0   \n",
       "15                  10                 229.0                  8.0   \n",
       "16                   9                 136.0                 10.0   \n",
       "17                   7                 280.0                  4.0   \n",
       "18                  10                 204.0                  9.0   \n",
       "19                   7                  90.0                  2.0   \n",
       "20                   5                 272.0                  5.0   \n",
       "21                   7                 119.0                 10.0   \n",
       "22                   4                   NaN                  NaN   \n",
       "23                  10                 107.0                  1.0   \n",
       "24                   6                 136.0                  5.0   \n",
       "25                   8                 194.0                  9.0   \n",
       "26                   6                 134.0                 10.0   \n",
       "27                   7                 275.0                  7.0   \n",
       "28                   3                 148.0                 10.0   \n",
       "29                   8                 156.0                 10.0   \n",
       "30                   5                 285.0                 10.0   \n",
       "\n",
       "          Winner Player_of_the_match  \n",
       "0    West Indies     Hayley Matthews  \n",
       "1   South Africa      Ayabonga Khaka  \n",
       "2      Australia      Rachael Haynes  \n",
       "3          India     Pooja Vastrakar  \n",
       "4    New Zealand         Suzie Bates  \n",
       "5      Australia        Alyssa Healy  \n",
       "6    West Indies  Shemaine Campbelle  \n",
       "7    New Zealand    Amy Satterthwait  \n",
       "8   South Africa      Shabnim Ismail  \n",
       "9          India     Smriti Mandhana  \n",
       "10     Australia        Ellyse Perry  \n",
       "11    Bangladesh       Fahima Khatun  \n",
       "12  South Africa      Marizanne Kapp  \n",
       "13     Australia        Ellyse Perry  \n",
       "14       England      Charlotte Dean  \n",
       "15  South Africa      Marizanne Kapp  \n",
       "16   West Indies   \\nHayley Matthews  \n",
       "17     Australia         Meg Lanning  \n",
       "18       England          Nat Sciver  \n",
       "19      Pakistan            Nida Dar  \n",
       "20     Australia         Meg Lanning  \n",
       "21         India      Yastika Bhatia  \n",
       "22     No Result                 NaN  \n",
       "23       England         Danni Wyatt  \n",
       "24     Australia         Beth Mooney  \n",
       "25   New Zealand         Suzie Bates  \n",
       "26       England      Sophia Dunkley  \n",
       "27  South Africa     Mignon du Preez  \n",
       "28     Australia        Alyssa Healy  \n",
       "29       England      Danielle Wyatt  \n",
       "30     Australia        Alyssa Healy  "
      ]
     },
     "execution_count": 2,
     "metadata": {},
     "output_type": "execute_result"
    }
   ],
   "source": [
    "df = pd.read_csv('Book wwc22 final version.csv',)\n",
    "df"
   ]
  },
  {
   "cell_type": "code",
   "execution_count": 232,
   "id": "8e25a526-6991-4ffb-aea4-91ea7d1b0ac5",
   "metadata": {},
   "outputs": [
    {
     "name": "stdout",
     "output_type": "stream",
     "text": [
      "<class 'pandas.core.frame.DataFrame'>\n",
      "RangeIndex: 31 entries, 0 to 30\n",
      "Data columns (total 13 columns):\n",
      " #   Column                Non-Null Count  Dtype  \n",
      "---  ------                --------------  -----  \n",
      " 0   Match_id              31 non-null     int64  \n",
      " 1   Team_1                31 non-null     object \n",
      " 2   Team_2                31 non-null     object \n",
      " 3                Venue    31 non-null     object \n",
      " 4   Stage                 31 non-null     object \n",
      " 5   Toss_winner           31 non-null     object \n",
      " 6   Toss_decision         31 non-null     object \n",
      " 7   First_innings_score   31 non-null     int64  \n",
      " 8   First_innings_wkts    31 non-null     int64  \n",
      " 9   Second_innings_score  30 non-null     float64\n",
      " 10  Second_innings_wkts   30 non-null     float64\n",
      " 11  Winner                31 non-null     object \n",
      " 12  Player_of_the_match   30 non-null     object \n",
      "dtypes: float64(2), int64(3), object(8)\n",
      "memory usage: 3.3+ KB\n"
     ]
    }
   ],
   "source": [
    "df.info()\n"
   ]
  },
  {
   "cell_type": "code",
   "execution_count": 233,
   "id": "f4477718-868b-4a76-a5a8-7023ac291c02",
   "metadata": {},
   "outputs": [
    {
     "data": {
      "text/html": [
       "<div>\n",
       "<style scoped>\n",
       "    .dataframe tbody tr th:only-of-type {\n",
       "        vertical-align: middle;\n",
       "    }\n",
       "\n",
       "    .dataframe tbody tr th {\n",
       "        vertical-align: top;\n",
       "    }\n",
       "\n",
       "    .dataframe thead th {\n",
       "        text-align: right;\n",
       "    }\n",
       "</style>\n",
       "<table border=\"1\" class=\"dataframe\">\n",
       "  <thead>\n",
       "    <tr style=\"text-align: right;\">\n",
       "      <th></th>\n",
       "      <th>Match_id</th>\n",
       "      <th>First_innings_score</th>\n",
       "      <th>First_innings_wkts</th>\n",
       "      <th>Second_innings_score</th>\n",
       "      <th>Second_innings_wkts</th>\n",
       "    </tr>\n",
       "  </thead>\n",
       "  <tbody>\n",
       "    <tr>\n",
       "      <th>count</th>\n",
       "      <td>31.000000</td>\n",
       "      <td>31.000000</td>\n",
       "      <td>31.000000</td>\n",
       "      <td>30.000000</td>\n",
       "      <td>30.000000</td>\n",
       "    </tr>\n",
       "    <tr>\n",
       "      <th>mean</th>\n",
       "      <td>16.000000</td>\n",
       "      <td>220.741935</td>\n",
       "      <td>7.451613</td>\n",
       "      <td>187.333333</td>\n",
       "      <td>7.566667</td>\n",
       "    </tr>\n",
       "    <tr>\n",
       "      <th>std</th>\n",
       "      <td>9.092121</td>\n",
       "      <td>72.708077</td>\n",
       "      <td>2.046765</td>\n",
       "      <td>59.716764</td>\n",
       "      <td>3.092631</td>\n",
       "    </tr>\n",
       "    <tr>\n",
       "      <th>min</th>\n",
       "      <td>1.000000</td>\n",
       "      <td>61.000000</td>\n",
       "      <td>3.000000</td>\n",
       "      <td>90.000000</td>\n",
       "      <td>1.000000</td>\n",
       "    </tr>\n",
       "    <tr>\n",
       "      <th>25%</th>\n",
       "      <td>8.500000</td>\n",
       "      <td>165.000000</td>\n",
       "      <td>6.000000</td>\n",
       "      <td>136.000000</td>\n",
       "      <td>5.250000</td>\n",
       "    </tr>\n",
       "    <tr>\n",
       "      <th>50%</th>\n",
       "      <td>16.000000</td>\n",
       "      <td>234.000000</td>\n",
       "      <td>8.000000</td>\n",
       "      <td>184.000000</td>\n",
       "      <td>9.000000</td>\n",
       "    </tr>\n",
       "    <tr>\n",
       "      <th>75%</th>\n",
       "      <td>23.500000</td>\n",
       "      <td>270.000000</td>\n",
       "      <td>9.000000</td>\n",
       "      <td>228.000000</td>\n",
       "      <td>10.000000</td>\n",
       "    </tr>\n",
       "    <tr>\n",
       "      <th>max</th>\n",
       "      <td>31.000000</td>\n",
       "      <td>356.000000</td>\n",
       "      <td>10.000000</td>\n",
       "      <td>298.000000</td>\n",
       "      <td>10.000000</td>\n",
       "    </tr>\n",
       "  </tbody>\n",
       "</table>\n",
       "</div>"
      ],
      "text/plain": [
       "        Match_id  First_innings_score  First_innings_wkts  \\\n",
       "count  31.000000            31.000000           31.000000   \n",
       "mean   16.000000           220.741935            7.451613   \n",
       "std     9.092121            72.708077            2.046765   \n",
       "min     1.000000            61.000000            3.000000   \n",
       "25%     8.500000           165.000000            6.000000   \n",
       "50%    16.000000           234.000000            8.000000   \n",
       "75%    23.500000           270.000000            9.000000   \n",
       "max    31.000000           356.000000           10.000000   \n",
       "\n",
       "       Second_innings_score  Second_innings_wkts  \n",
       "count             30.000000            30.000000  \n",
       "mean             187.333333             7.566667  \n",
       "std               59.716764             3.092631  \n",
       "min               90.000000             1.000000  \n",
       "25%              136.000000             5.250000  \n",
       "50%              184.000000             9.000000  \n",
       "75%              228.000000            10.000000  \n",
       "max              298.000000            10.000000  "
      ]
     },
     "execution_count": 233,
     "metadata": {},
     "output_type": "execute_result"
    }
   ],
   "source": [
    "df.describe()\n"
   ]
  },
  {
   "cell_type": "code",
   "execution_count": 234,
   "id": "003fc737-544a-4345-9fce-cf9259286bd8",
   "metadata": {},
   "outputs": [
    {
     "name": "stderr",
     "output_type": "stream",
     "text": [
      "C:\\Users\\prasa\\AppData\\Local\\Temp\\ipykernel_3840\\1846685250.py:2: UserWarning: \n",
      "\n",
      "`distplot` is a deprecated function and will be removed in seaborn v0.14.0.\n",
      "\n",
      "Please adapt your code to use either `displot` (a figure-level function with\n",
      "similar flexibility) or `histplot` (an axes-level function for histograms).\n",
      "\n",
      "For a guide to updating your code to use the new functions, please see\n",
      "https://gist.github.com/mwaskom/de44147ed2974457ad6372750bbe5751\n",
      "\n",
      "  sns.distplot(df[\"First_innings_score\"],kde=True , color=\"deepskyblue\",bins=10)\n"
     ]
    },
    {
     "data": {
      "text/plain": [
       "<Axes: xlabel='First_innings_score', ylabel='Density'>"
      ]
     },
     "execution_count": 234,
     "metadata": {},
     "output_type": "execute_result"
    },
    {
     "data": {
      "image/png": "[encoded data removed]",
      "text/plain": [
       "<Figure size 600x400 with 1 Axes>"
      ]
     },
     "metadata": {},
     "output_type": "display_data"
    }
   ],
   "source": [
    "sns.set(rc ={\"figure.figsize\":(6,4)})\n",
    "sns.distplot(df[\"First_innings_score\"],kde=True , color=\"deepskyblue\",bins=10)"
   ]
  },
  {
   "cell_type": "code",
   "execution_count": 235,
   "id": "1ee72ef5-cdde-40fa-a882-69fc77d4e512",
   "metadata": {},
   "outputs": [
    {
     "name": "stderr",
     "output_type": "stream",
     "text": [
      "C:\\Users\\prasa\\AppData\\Local\\Temp\\ipykernel_3840\\3331813220.py:2: UserWarning: \n",
      "\n",
      "`distplot` is a deprecated function and will be removed in seaborn v0.14.0.\n",
      "\n",
      "Please adapt your code to use either `displot` (a figure-level function with\n",
      "similar flexibility) or `histplot` (an axes-level function for histograms).\n",
      "\n",
      "For a guide to updating your code to use the new functions, please see\n",
      "https://gist.github.com/mwaskom/de44147ed2974457ad6372750bbe5751\n",
      "\n",
      "  sns.distplot(df[\"First_innings_wkts\"],kde=True, color = \"crimson\",bins = 10 )\n"
     ]
    },
    {
     "data": {
      "text/plain": [
       "<Axes: xlabel='First_innings_wkts', ylabel='Density'>"
      ]
     },
     "execution_count": 235,
     "metadata": {},
     "output_type": "execute_result"
    },
    {
     "data": {
      "image/png": "[encoded data removed]",
      "text/plain": [
       "<Figure size 600x400 with 1 Axes>"
      ]
     },
     "metadata": {},
     "output_type": "display_data"
    }
   ],
   "source": [
    "sns.set(rc={\"figure.figsize\":(6,4)})\n",
    "sns.distplot(df[\"First_innings_wkts\"],kde=True, color = \"crimson\",bins = 10 )"
   ]
  },
  {
   "cell_type": "code",
   "execution_count": 236,
   "id": "09abfad2-45e7-4725-8410-3238d4ea526a",
   "metadata": {},
   "outputs": [
    {
     "name": "stderr",
     "output_type": "stream",
     "text": [
      "C:\\Users\\prasa\\AppData\\Local\\Temp\\ipykernel_3840\\2913002571.py:2: UserWarning: \n",
      "\n",
      "`distplot` is a deprecated function and will be removed in seaborn v0.14.0.\n",
      "\n",
      "Please adapt your code to use either `displot` (a figure-level function with\n",
      "similar flexibility) or `histplot` (an axes-level function for histograms).\n",
      "\n",
      "For a guide to updating your code to use the new functions, please see\n",
      "https://gist.github.com/mwaskom/de44147ed2974457ad6372750bbe5751\n",
      "\n",
      "  sns.distplot(df[\"Second_innings_score\"],kde=True, color = \"maroon\",bins = 10 )\n"
     ]
    },
    {
     "data": {
      "text/plain": [
       "<Axes: xlabel='Second_innings_score', ylabel='Density'>"
      ]
     },
     "execution_count": 236,
     "metadata": {},
     "output_type": "execute_result"
    },
    {
     "data": {
      "image/png": "[encoded data removed]",
      "text/plain": [
       "<Figure size 600x400 with 1 Axes>"
      ]
     },
     "metadata": {},
     "output_type": "display_data"
    }
   ],
   "source": [
    "sns.set(rc={\"figure.figsize\":(6,4)})\n",
    "sns.distplot(df[\"Second_innings_score\"],kde=True, color = \"maroon\",bins = 10 )"
   ]
  },
  {
   "cell_type": "code",
   "execution_count": 237,
   "id": "59469321-83f7-432b-82fc-e06bebb8f332",
   "metadata": {},
   "outputs": [
    {
     "name": "stderr",
     "output_type": "stream",
     "text": [
      "C:\\Users\\prasa\\AppData\\Local\\Temp\\ipykernel_3840\\2763924452.py:2: UserWarning: \n",
      "\n",
      "`distplot` is a deprecated function and will be removed in seaborn v0.14.0.\n",
      "\n",
      "Please adapt your code to use either `displot` (a figure-level function with\n",
      "similar flexibility) or `histplot` (an axes-level function for histograms).\n",
      "\n",
      "For a guide to updating your code to use the new functions, please see\n",
      "https://gist.github.com/mwaskom/de44147ed2974457ad6372750bbe5751\n",
      "\n",
      "  sns.distplot(df[\"Second_innings_wkts\"],kde=True, color = \"steelblue\",bins = 10 )\n"
     ]
    },
    {
     "data": {
      "text/plain": [
       "<Axes: xlabel='Second_innings_wkts', ylabel='Density'>"
      ]
     },
     "execution_count": 237,
     "metadata": {},
     "output_type": "execute_result"
    },
    {
     "data": {
      "image/png": "[encoded data removed]",
      "text/plain": [
       "<Figure size 600x400 with 1 Axes>"
      ]
     },
     "metadata": {},
     "output_type": "display_data"
    }
   ],
   "source": [
    "sns.set(rc={\"figure.figsize\":(6,4)})\n",
    "sns.distplot(df[\"Second_innings_wkts\"],kde=True, color = \"steelblue\",bins = 10 )"
   ]
  },
  {
   "cell_type": "code",
   "execution_count": 238,
   "id": "5eccef62-15a4-4b9e-bbd1-f2691ed5aee6",
   "metadata": {},
   "outputs": [
    {
     "data": {
      "text/plain": [
       "0"
      ]
     },
     "execution_count": 238,
     "metadata": {},
     "output_type": "execute_result"
    }
   ],
   "source": [
    "df.duplicated().sum()"
   ]
  },
  {
   "cell_type": "markdown",
   "id": "cfef24c7-85c4-4994-a003-41fddf5e5e73",
   "metadata": {},
   "source": [
    "### Check And Remove NaN values\n"
   ]
  },
  {
   "cell_type": "code",
   "execution_count": 239,
   "id": "f9841ebe-1f81-4592-9ce8-76519baed7fd",
   "metadata": {},
   "outputs": [
    {
     "data": {
      "text/plain": [
       "Match_id                0\n",
       "Team_1                  0\n",
       "Team_2                  0\n",
       "             Venue      0\n",
       "Stage                   0\n",
       "Toss_winner             0\n",
       "Toss_decision           0\n",
       "First_innings_score     0\n",
       "First_innings_wkts      0\n",
       "Second_innings_score    1\n",
       "Second_innings_wkts     1\n",
       "Winner                  0\n",
       "Player_of_the_match     1\n",
       "dtype: int64"
      ]
     },
     "execution_count": 239,
     "metadata": {},
     "output_type": "execute_result"
    }
   ],
   "source": [
    "df.isnull().sum()"
   ]
  },
  {
   "cell_type": "code",
   "execution_count": 240,
   "id": "1634e675-5ad2-4410-be3f-0b510865baec",
   "metadata": {},
   "outputs": [
    {
     "data": {
      "text/plain": [
       "<Figure size 1500x600 with 0 Axes>"
      ]
     },
     "execution_count": 240,
     "metadata": {},
     "output_type": "execute_result"
    },
    {
     "data": {
      "text/plain": [
       "<Figure size 1500x600 with 0 Axes>"
      ]
     },
     "metadata": {},
     "output_type": "display_data"
    }
   ],
   "source": [
    "# Remove Outliers\n",
    "num_colums = df.select_dtypes(include = ['int64','float64'])\n",
    "plt.figure(figsize=(15,6))\n",
    "                        "
   ]
  },
  {
   "cell_type": "code",
   "execution_count": 241,
   "id": "86645916-20d1-4603-b7f4-75f8d6c966d4",
   "metadata": {},
   "outputs": [
    {
     "data": {
      "image/png": "[encoded data removed]",
      "text/plain": [
       "<Figure size 600x400 with 1 Axes>"
      ]
     },
     "metadata": {},
     "output_type": "display_data"
    }
   ],
   "source": [
    "sns.boxplot(data=num_colums)\n",
    "plt.show()"
   ]
  },
  {
   "cell_type": "code",
   "execution_count": null,
   "id": "c4160413-5fff-447b-8d62-ef9ca6e839ef",
   "metadata": {},
   "outputs": [],
   "source": []
  },
  {
   "cell_type": "code",
   "execution_count": null,
   "id": "990c3fce-96ae-42fb-9e31-d97898c38530",
   "metadata": {},
   "outputs": [],
   "source": []
  },
  {
   "cell_type": "code",
   "execution_count": 242,
   "id": "bc07ade4-0fa4-43de-905f-0d4663ad9d56",
   "metadata": {},
   "outputs": [],
   "source": [
    "def remove_outliers(col):\n",
    "    sorted(col)\n",
    "    Q1,Q3=col.quantile([0.25,0.75])\n",
    "    IQR = Q3 - Q1\n",
    "    lower_range =Q1 -(1.5 * IQR)\n",
    "    upper_range =Q3 +(1.5 * IQR)\n",
    "    return lower_range,upper_range"
   ]
  },
  {
   "cell_type": "code",
   "execution_count": 243,
   "id": "4d15e405-646d-471d-a5f8-64722516ba1c",
   "metadata": {},
   "outputs": [
    {
     "ename": "TypeError",
     "evalue": "unsupported operand type(s) for -: 'str' and 'str'",
     "output_type": "error",
     "traceback": [
      "\u001b[1;31m---------------------------------------------------------------------------\u001b[0m",
      "\u001b[1;31mTypeError\u001b[0m                                 Traceback (most recent call last)",
      "Cell \u001b[1;32mIn[243], line 2\u001b[0m\n\u001b[0;32m      1\u001b[0m \u001b[38;5;28;01mfor\u001b[39;00m i \u001b[38;5;129;01min\u001b[39;00m df\u001b[38;5;241m.\u001b[39mcolumns:\n\u001b[1;32m----> 2\u001b[0m     lower_range,upper_range \u001b[38;5;241m=\u001b[39m \u001b[43mremove_outliers\u001b[49m\u001b[43m(\u001b[49m\u001b[43mdf\u001b[49m\u001b[43m[\u001b[49m\u001b[43mi\u001b[49m\u001b[43m]\u001b[49m\u001b[43m)\u001b[49m\n\u001b[0;32m      3\u001b[0m     df[i] \u001b[38;5;241m=\u001b[39mnp\u001b[38;5;241m.\u001b[39mwhere(df[i] \u001b[38;5;241m>\u001b[39m upper_range,upper_range,df[i])\n\u001b[0;32m      4\u001b[0m     df[i]\u001b[38;5;241m=\u001b[39m np\u001b[38;5;241m.\u001b[39mwhere(df[i] \u001b[38;5;241m<\u001b[39m lower_range,lower_range,df[i])\n",
      "Cell \u001b[1;32mIn[242], line 3\u001b[0m, in \u001b[0;36mremove_outliers\u001b[1;34m(col)\u001b[0m\n\u001b[0;32m      1\u001b[0m \u001b[38;5;28;01mdef\u001b[39;00m \u001b[38;5;21mremove_outliers\u001b[39m(col):\n\u001b[0;32m      2\u001b[0m     \u001b[38;5;28msorted\u001b[39m(col)\n\u001b[1;32m----> 3\u001b[0m     Q1,Q3\u001b[38;5;241m=\u001b[39m\u001b[43mcol\u001b[49m\u001b[38;5;241;43m.\u001b[39;49m\u001b[43mquantile\u001b[49m\u001b[43m(\u001b[49m\u001b[43m[\u001b[49m\u001b[38;5;241;43m0.25\u001b[39;49m\u001b[43m,\u001b[49m\u001b[38;5;241;43m0.75\u001b[39;49m\u001b[43m]\u001b[49m\u001b[43m)\u001b[49m\n\u001b[0;32m      4\u001b[0m     IQR \u001b[38;5;241m=\u001b[39m Q3 \u001b[38;5;241m-\u001b[39m Q1\n\u001b[0;32m      5\u001b[0m     lower_range \u001b[38;5;241m=\u001b[39mQ1 \u001b[38;5;241m-\u001b[39m(\u001b[38;5;241m1.5\u001b[39m \u001b[38;5;241m*\u001b[39m IQR)\n",
      "File \u001b[1;32m~\\AppData\\Local\\Programs\\Python\\Python312\\Lib\\site-packages\\pandas\\core\\series.py:2769\u001b[0m, in \u001b[0;36mSeries.quantile\u001b[1;34m(self, q, interpolation)\u001b[0m\n\u001b[0;32m   2765\u001b[0m \u001b[38;5;66;03m# We dispatch to DataFrame so that core.internals only has to worry\u001b[39;00m\n\u001b[0;32m   2766\u001b[0m \u001b[38;5;66;03m#  about 2D cases.\u001b[39;00m\n\u001b[0;32m   2767\u001b[0m df \u001b[38;5;241m=\u001b[39m \u001b[38;5;28mself\u001b[39m\u001b[38;5;241m.\u001b[39mto_frame()\n\u001b[1;32m-> 2769\u001b[0m result \u001b[38;5;241m=\u001b[39m \u001b[43mdf\u001b[49m\u001b[38;5;241;43m.\u001b[39;49m\u001b[43mquantile\u001b[49m\u001b[43m(\u001b[49m\u001b[43mq\u001b[49m\u001b[38;5;241;43m=\u001b[39;49m\u001b[43mq\u001b[49m\u001b[43m,\u001b[49m\u001b[43m \u001b[49m\u001b[43minterpolation\u001b[49m\u001b[38;5;241;43m=\u001b[39;49m\u001b[43minterpolation\u001b[49m\u001b[43m,\u001b[49m\u001b[43m \u001b[49m\u001b[43mnumeric_only\u001b[49m\u001b[38;5;241;43m=\u001b[39;49m\u001b[38;5;28;43;01mFalse\u001b[39;49;00m\u001b[43m)\u001b[49m\n\u001b[0;32m   2770\u001b[0m \u001b[38;5;28;01mif\u001b[39;00m result\u001b[38;5;241m.\u001b[39mndim \u001b[38;5;241m==\u001b[39m \u001b[38;5;241m2\u001b[39m:\n\u001b[0;32m   2771\u001b[0m     result \u001b[38;5;241m=\u001b[39m result\u001b[38;5;241m.\u001b[39miloc[:, \u001b[38;5;241m0\u001b[39m]\n",
      "File \u001b[1;32m~\\AppData\\Local\\Programs\\Python\\Python312\\Lib\\site-packages\\pandas\\core\\frame.py:11834\u001b[0m, in \u001b[0;36mDataFrame.quantile\u001b[1;34m(self, q, axis, numeric_only, interpolation, method)\u001b[0m\n\u001b[0;32m  11830\u001b[0m     \u001b[38;5;28;01mraise\u001b[39;00m \u001b[38;5;167;01mValueError\u001b[39;00m(\n\u001b[0;32m  11831\u001b[0m         \u001b[38;5;124mf\u001b[39m\u001b[38;5;124m\"\u001b[39m\u001b[38;5;124mInvalid method: \u001b[39m\u001b[38;5;132;01m{\u001b[39;00mmethod\u001b[38;5;132;01m}\u001b[39;00m\u001b[38;5;124m. Method must be in \u001b[39m\u001b[38;5;132;01m{\u001b[39;00mvalid_method\u001b[38;5;132;01m}\u001b[39;00m\u001b[38;5;124m.\u001b[39m\u001b[38;5;124m\"\u001b[39m\n\u001b[0;32m  11832\u001b[0m     )\n\u001b[0;32m  11833\u001b[0m \u001b[38;5;28;01mif\u001b[39;00m method \u001b[38;5;241m==\u001b[39m \u001b[38;5;124m\"\u001b[39m\u001b[38;5;124msingle\u001b[39m\u001b[38;5;124m\"\u001b[39m:\n\u001b[1;32m> 11834\u001b[0m     res \u001b[38;5;241m=\u001b[39m \u001b[43mdata\u001b[49m\u001b[38;5;241;43m.\u001b[39;49m\u001b[43m_mgr\u001b[49m\u001b[38;5;241;43m.\u001b[39;49m\u001b[43mquantile\u001b[49m\u001b[43m(\u001b[49m\u001b[43mqs\u001b[49m\u001b[38;5;241;43m=\u001b[39;49m\u001b[43mq\u001b[49m\u001b[43m,\u001b[49m\u001b[43m \u001b[49m\u001b[43minterpolation\u001b[49m\u001b[38;5;241;43m=\u001b[39;49m\u001b[43minterpolation\u001b[49m\u001b[43m)\u001b[49m\n\u001b[0;32m  11835\u001b[0m \u001b[38;5;28;01melif\u001b[39;00m method \u001b[38;5;241m==\u001b[39m \u001b[38;5;124m\"\u001b[39m\u001b[38;5;124mtable\u001b[39m\u001b[38;5;124m\"\u001b[39m:\n\u001b[0;32m  11836\u001b[0m     valid_interpolation \u001b[38;5;241m=\u001b[39m {\u001b[38;5;124m\"\u001b[39m\u001b[38;5;124mnearest\u001b[39m\u001b[38;5;124m\"\u001b[39m, \u001b[38;5;124m\"\u001b[39m\u001b[38;5;124mlower\u001b[39m\u001b[38;5;124m\"\u001b[39m, \u001b[38;5;124m\"\u001b[39m\u001b[38;5;124mhigher\u001b[39m\u001b[38;5;124m\"\u001b[39m}\n",
      "File \u001b[1;32m~\\AppData\\Local\\Programs\\Python\\Python312\\Lib\\site-packages\\pandas\\core\\internals\\managers.py:1508\u001b[0m, in \u001b[0;36mBlockManager.quantile\u001b[1;34m(self, qs, interpolation)\u001b[0m\n\u001b[0;32m   1504\u001b[0m new_axes \u001b[38;5;241m=\u001b[39m \u001b[38;5;28mlist\u001b[39m(\u001b[38;5;28mself\u001b[39m\u001b[38;5;241m.\u001b[39maxes)\n\u001b[0;32m   1505\u001b[0m new_axes[\u001b[38;5;241m1\u001b[39m] \u001b[38;5;241m=\u001b[39m Index(qs, dtype\u001b[38;5;241m=\u001b[39mnp\u001b[38;5;241m.\u001b[39mfloat64)\n\u001b[0;32m   1507\u001b[0m blocks \u001b[38;5;241m=\u001b[39m [\n\u001b[1;32m-> 1508\u001b[0m     \u001b[43mblk\u001b[49m\u001b[38;5;241;43m.\u001b[39;49m\u001b[43mquantile\u001b[49m\u001b[43m(\u001b[49m\u001b[43mqs\u001b[49m\u001b[38;5;241;43m=\u001b[39;49m\u001b[43mqs\u001b[49m\u001b[43m,\u001b[49m\u001b[43m \u001b[49m\u001b[43minterpolation\u001b[49m\u001b[38;5;241;43m=\u001b[39;49m\u001b[43minterpolation\u001b[49m\u001b[43m)\u001b[49m \u001b[38;5;28;01mfor\u001b[39;00m blk \u001b[38;5;129;01min\u001b[39;00m \u001b[38;5;28mself\u001b[39m\u001b[38;5;241m.\u001b[39mblocks\n\u001b[0;32m   1509\u001b[0m ]\n\u001b[0;32m   1511\u001b[0m \u001b[38;5;28;01mreturn\u001b[39;00m \u001b[38;5;28mtype\u001b[39m(\u001b[38;5;28mself\u001b[39m)(blocks, new_axes)\n",
      "File \u001b[1;32m~\\AppData\\Local\\Programs\\Python\\Python312\\Lib\\site-packages\\pandas\\core\\internals\\blocks.py:1587\u001b[0m, in \u001b[0;36mBlock.quantile\u001b[1;34m(self, qs, interpolation)\u001b[0m\n\u001b[0;32m   1584\u001b[0m \u001b[38;5;28;01massert\u001b[39;00m \u001b[38;5;28mself\u001b[39m\u001b[38;5;241m.\u001b[39mndim \u001b[38;5;241m==\u001b[39m \u001b[38;5;241m2\u001b[39m\n\u001b[0;32m   1585\u001b[0m \u001b[38;5;28;01massert\u001b[39;00m is_list_like(qs)  \u001b[38;5;66;03m# caller is responsible for this\u001b[39;00m\n\u001b[1;32m-> 1587\u001b[0m result \u001b[38;5;241m=\u001b[39m \u001b[43mquantile_compat\u001b[49m\u001b[43m(\u001b[49m\u001b[38;5;28;43mself\u001b[39;49m\u001b[38;5;241;43m.\u001b[39;49m\u001b[43mvalues\u001b[49m\u001b[43m,\u001b[49m\u001b[43m \u001b[49m\u001b[43mnp\u001b[49m\u001b[38;5;241;43m.\u001b[39;49m\u001b[43masarray\u001b[49m\u001b[43m(\u001b[49m\u001b[43mqs\u001b[49m\u001b[38;5;241;43m.\u001b[39;49m\u001b[43m_values\u001b[49m\u001b[43m)\u001b[49m\u001b[43m,\u001b[49m\u001b[43m \u001b[49m\u001b[43minterpolation\u001b[49m\u001b[43m)\u001b[49m\n\u001b[0;32m   1588\u001b[0m \u001b[38;5;66;03m# ensure_block_shape needed for cases where we start with EA and result\u001b[39;00m\n\u001b[0;32m   1589\u001b[0m \u001b[38;5;66;03m#  is ndarray, e.g. IntegerArray, SparseArray\u001b[39;00m\n\u001b[0;32m   1590\u001b[0m result \u001b[38;5;241m=\u001b[39m ensure_block_shape(result, ndim\u001b[38;5;241m=\u001b[39m\u001b[38;5;241m2\u001b[39m)\n",
      "File \u001b[1;32m~\\AppData\\Local\\Programs\\Python\\Python312\\Lib\\site-packages\\pandas\\core\\array_algos\\quantile.py:39\u001b[0m, in \u001b[0;36mquantile_compat\u001b[1;34m(values, qs, interpolation)\u001b[0m\n\u001b[0;32m     37\u001b[0m     fill_value \u001b[38;5;241m=\u001b[39m na_value_for_dtype(values\u001b[38;5;241m.\u001b[39mdtype, compat\u001b[38;5;241m=\u001b[39m\u001b[38;5;28;01mFalse\u001b[39;00m)\n\u001b[0;32m     38\u001b[0m     mask \u001b[38;5;241m=\u001b[39m isna(values)\n\u001b[1;32m---> 39\u001b[0m     \u001b[38;5;28;01mreturn\u001b[39;00m \u001b[43mquantile_with_mask\u001b[49m\u001b[43m(\u001b[49m\u001b[43mvalues\u001b[49m\u001b[43m,\u001b[49m\u001b[43m \u001b[49m\u001b[43mmask\u001b[49m\u001b[43m,\u001b[49m\u001b[43m \u001b[49m\u001b[43mfill_value\u001b[49m\u001b[43m,\u001b[49m\u001b[43m \u001b[49m\u001b[43mqs\u001b[49m\u001b[43m,\u001b[49m\u001b[43m \u001b[49m\u001b[43minterpolation\u001b[49m\u001b[43m)\u001b[49m\n\u001b[0;32m     40\u001b[0m \u001b[38;5;28;01melse\u001b[39;00m:\n\u001b[0;32m     41\u001b[0m     \u001b[38;5;28;01mreturn\u001b[39;00m values\u001b[38;5;241m.\u001b[39m_quantile(qs, interpolation)\n",
      "File \u001b[1;32m~\\AppData\\Local\\Programs\\Python\\Python312\\Lib\\site-packages\\pandas\\core\\array_algos\\quantile.py:97\u001b[0m, in \u001b[0;36mquantile_with_mask\u001b[1;34m(values, mask, fill_value, qs, interpolation)\u001b[0m\n\u001b[0;32m     95\u001b[0m     result \u001b[38;5;241m=\u001b[39m np\u001b[38;5;241m.\u001b[39mrepeat(flat, \u001b[38;5;28mlen\u001b[39m(values))\u001b[38;5;241m.\u001b[39mreshape(\u001b[38;5;28mlen\u001b[39m(values), \u001b[38;5;28mlen\u001b[39m(qs))\n\u001b[0;32m     96\u001b[0m \u001b[38;5;28;01melse\u001b[39;00m:\n\u001b[1;32m---> 97\u001b[0m     result \u001b[38;5;241m=\u001b[39m \u001b[43m_nanpercentile\u001b[49m\u001b[43m(\u001b[49m\n\u001b[0;32m     98\u001b[0m \u001b[43m        \u001b[49m\u001b[43mvalues\u001b[49m\u001b[43m,\u001b[49m\n\u001b[0;32m     99\u001b[0m \u001b[43m        \u001b[49m\u001b[43mqs\u001b[49m\u001b[43m \u001b[49m\u001b[38;5;241;43m*\u001b[39;49m\u001b[43m \u001b[49m\u001b[38;5;241;43m100.0\u001b[39;49m\u001b[43m,\u001b[49m\n\u001b[0;32m    100\u001b[0m \u001b[43m        \u001b[49m\u001b[43mna_value\u001b[49m\u001b[38;5;241;43m=\u001b[39;49m\u001b[43mfill_value\u001b[49m\u001b[43m,\u001b[49m\n\u001b[0;32m    101\u001b[0m \u001b[43m        \u001b[49m\u001b[43mmask\u001b[49m\u001b[38;5;241;43m=\u001b[39;49m\u001b[43mmask\u001b[49m\u001b[43m,\u001b[49m\n\u001b[0;32m    102\u001b[0m \u001b[43m        \u001b[49m\u001b[43minterpolation\u001b[49m\u001b[38;5;241;43m=\u001b[39;49m\u001b[43minterpolation\u001b[49m\u001b[43m,\u001b[49m\n\u001b[0;32m    103\u001b[0m \u001b[43m    \u001b[49m\u001b[43m)\u001b[49m\n\u001b[0;32m    105\u001b[0m     result \u001b[38;5;241m=\u001b[39m np\u001b[38;5;241m.\u001b[39marray(result, copy\u001b[38;5;241m=\u001b[39m\u001b[38;5;28;01mFalse\u001b[39;00m)\n\u001b[0;32m    106\u001b[0m     result \u001b[38;5;241m=\u001b[39m result\u001b[38;5;241m.\u001b[39mT\n",
      "File \u001b[1;32m~\\AppData\\Local\\Programs\\Python\\Python312\\Lib\\site-packages\\pandas\\core\\array_algos\\quantile.py:218\u001b[0m, in \u001b[0;36m_nanpercentile\u001b[1;34m(values, qs, na_value, mask, interpolation)\u001b[0m\n\u001b[0;32m    216\u001b[0m     \u001b[38;5;28;01mreturn\u001b[39;00m result\n\u001b[0;32m    217\u001b[0m \u001b[38;5;28;01melse\u001b[39;00m:\n\u001b[1;32m--> 218\u001b[0m     \u001b[38;5;28;01mreturn\u001b[39;00m \u001b[43mnp\u001b[49m\u001b[38;5;241;43m.\u001b[39;49m\u001b[43mpercentile\u001b[49m\u001b[43m(\u001b[49m\n\u001b[0;32m    219\u001b[0m \u001b[43m        \u001b[49m\u001b[43mvalues\u001b[49m\u001b[43m,\u001b[49m\n\u001b[0;32m    220\u001b[0m \u001b[43m        \u001b[49m\u001b[43mqs\u001b[49m\u001b[43m,\u001b[49m\n\u001b[0;32m    221\u001b[0m \u001b[43m        \u001b[49m\u001b[43maxis\u001b[49m\u001b[38;5;241;43m=\u001b[39;49m\u001b[38;5;241;43m1\u001b[39;49m\u001b[43m,\u001b[49m\n\u001b[0;32m    222\u001b[0m \u001b[43m        \u001b[49m\u001b[38;5;66;43;03m# error: No overload variant of \"percentile\" matches argument types\u001b[39;49;00m\n\u001b[0;32m    223\u001b[0m \u001b[43m        \u001b[49m\u001b[38;5;66;43;03m# \"ndarray[Any, Any]\", \"ndarray[Any, dtype[floating[_64Bit]]]\",\u001b[39;49;00m\n\u001b[0;32m    224\u001b[0m \u001b[43m        \u001b[49m\u001b[38;5;66;43;03m# \"int\", \"Dict[str, str]\"  [call-overload]\u001b[39;49;00m\n\u001b[0;32m    225\u001b[0m \u001b[43m        \u001b[49m\u001b[43mmethod\u001b[49m\u001b[38;5;241;43m=\u001b[39;49m\u001b[43minterpolation\u001b[49m\u001b[43m,\u001b[49m\u001b[43m  \u001b[49m\u001b[38;5;66;43;03m# type: ignore[call-overload]\u001b[39;49;00m\n\u001b[0;32m    226\u001b[0m \u001b[43m    \u001b[49m\u001b[43m)\u001b[49m\n",
      "File \u001b[1;32m~\\AppData\\Local\\Programs\\Python\\Python312\\Lib\\site-packages\\numpy\\lib\\function_base.py:4283\u001b[0m, in \u001b[0;36mpercentile\u001b[1;34m(a, q, axis, out, overwrite_input, method, keepdims, interpolation)\u001b[0m\n\u001b[0;32m   4281\u001b[0m \u001b[38;5;28;01mif\u001b[39;00m \u001b[38;5;129;01mnot\u001b[39;00m _quantile_is_valid(q):\n\u001b[0;32m   4282\u001b[0m     \u001b[38;5;28;01mraise\u001b[39;00m \u001b[38;5;167;01mValueError\u001b[39;00m(\u001b[38;5;124m\"\u001b[39m\u001b[38;5;124mPercentiles must be in the range [0, 100]\u001b[39m\u001b[38;5;124m\"\u001b[39m)\n\u001b[1;32m-> 4283\u001b[0m \u001b[38;5;28;01mreturn\u001b[39;00m \u001b[43m_quantile_unchecked\u001b[49m\u001b[43m(\u001b[49m\n\u001b[0;32m   4284\u001b[0m \u001b[43m    \u001b[49m\u001b[43ma\u001b[49m\u001b[43m,\u001b[49m\u001b[43m \u001b[49m\u001b[43mq\u001b[49m\u001b[43m,\u001b[49m\u001b[43m \u001b[49m\u001b[43maxis\u001b[49m\u001b[43m,\u001b[49m\u001b[43m \u001b[49m\u001b[43mout\u001b[49m\u001b[43m,\u001b[49m\u001b[43m \u001b[49m\u001b[43moverwrite_input\u001b[49m\u001b[43m,\u001b[49m\u001b[43m \u001b[49m\u001b[43mmethod\u001b[49m\u001b[43m,\u001b[49m\u001b[43m \u001b[49m\u001b[43mkeepdims\u001b[49m\u001b[43m)\u001b[49m\n",
      "File \u001b[1;32m~\\AppData\\Local\\Programs\\Python\\Python312\\Lib\\site-packages\\numpy\\lib\\function_base.py:4555\u001b[0m, in \u001b[0;36m_quantile_unchecked\u001b[1;34m(a, q, axis, out, overwrite_input, method, keepdims)\u001b[0m\n\u001b[0;32m   4547\u001b[0m \u001b[38;5;28;01mdef\u001b[39;00m \u001b[38;5;21m_quantile_unchecked\u001b[39m(a,\n\u001b[0;32m   4548\u001b[0m                         q,\n\u001b[0;32m   4549\u001b[0m                         axis\u001b[38;5;241m=\u001b[39m\u001b[38;5;28;01mNone\u001b[39;00m,\n\u001b[1;32m   (...)\u001b[0m\n\u001b[0;32m   4552\u001b[0m                         method\u001b[38;5;241m=\u001b[39m\u001b[38;5;124m\"\u001b[39m\u001b[38;5;124mlinear\u001b[39m\u001b[38;5;124m\"\u001b[39m,\n\u001b[0;32m   4553\u001b[0m                         keepdims\u001b[38;5;241m=\u001b[39m\u001b[38;5;28;01mFalse\u001b[39;00m):\n\u001b[0;32m   4554\u001b[0m \u001b[38;5;250m    \u001b[39m\u001b[38;5;124;03m\"\"\"Assumes that q is in [0, 1], and is an ndarray\"\"\"\u001b[39;00m\n\u001b[1;32m-> 4555\u001b[0m     \u001b[38;5;28;01mreturn\u001b[39;00m \u001b[43m_ureduce\u001b[49m\u001b[43m(\u001b[49m\u001b[43ma\u001b[49m\u001b[43m,\u001b[49m\n\u001b[0;32m   4556\u001b[0m \u001b[43m                    \u001b[49m\u001b[43mfunc\u001b[49m\u001b[38;5;241;43m=\u001b[39;49m\u001b[43m_quantile_ureduce_func\u001b[49m\u001b[43m,\u001b[49m\n\u001b[0;32m   4557\u001b[0m \u001b[43m                    \u001b[49m\u001b[43mq\u001b[49m\u001b[38;5;241;43m=\u001b[39;49m\u001b[43mq\u001b[49m\u001b[43m,\u001b[49m\n\u001b[0;32m   4558\u001b[0m \u001b[43m                    \u001b[49m\u001b[43mkeepdims\u001b[49m\u001b[38;5;241;43m=\u001b[39;49m\u001b[43mkeepdims\u001b[49m\u001b[43m,\u001b[49m\n\u001b[0;32m   4559\u001b[0m \u001b[43m                    \u001b[49m\u001b[43maxis\u001b[49m\u001b[38;5;241;43m=\u001b[39;49m\u001b[43maxis\u001b[49m\u001b[43m,\u001b[49m\n\u001b[0;32m   4560\u001b[0m \u001b[43m                    \u001b[49m\u001b[43mout\u001b[49m\u001b[38;5;241;43m=\u001b[39;49m\u001b[43mout\u001b[49m\u001b[43m,\u001b[49m\n\u001b[0;32m   4561\u001b[0m \u001b[43m                    \u001b[49m\u001b[43moverwrite_input\u001b[49m\u001b[38;5;241;43m=\u001b[39;49m\u001b[43moverwrite_input\u001b[49m\u001b[43m,\u001b[49m\n\u001b[0;32m   4562\u001b[0m \u001b[43m                    \u001b[49m\u001b[43mmethod\u001b[49m\u001b[38;5;241;43m=\u001b[39;49m\u001b[43mmethod\u001b[49m\u001b[43m)\u001b[49m\n",
      "File \u001b[1;32m~\\AppData\\Local\\Programs\\Python\\Python312\\Lib\\site-packages\\numpy\\lib\\function_base.py:3823\u001b[0m, in \u001b[0;36m_ureduce\u001b[1;34m(a, func, keepdims, **kwargs)\u001b[0m\n\u001b[0;32m   3820\u001b[0m             index_out \u001b[38;5;241m=\u001b[39m (\u001b[38;5;241m0\u001b[39m, ) \u001b[38;5;241m*\u001b[39m nd\n\u001b[0;32m   3821\u001b[0m             kwargs[\u001b[38;5;124m'\u001b[39m\u001b[38;5;124mout\u001b[39m\u001b[38;5;124m'\u001b[39m] \u001b[38;5;241m=\u001b[39m out[(\u001b[38;5;28mEllipsis\u001b[39m, ) \u001b[38;5;241m+\u001b[39m index_out]\n\u001b[1;32m-> 3823\u001b[0m r \u001b[38;5;241m=\u001b[39m \u001b[43mfunc\u001b[49m\u001b[43m(\u001b[49m\u001b[43ma\u001b[49m\u001b[43m,\u001b[49m\u001b[43m \u001b[49m\u001b[38;5;241;43m*\u001b[39;49m\u001b[38;5;241;43m*\u001b[39;49m\u001b[43mkwargs\u001b[49m\u001b[43m)\u001b[49m\n\u001b[0;32m   3825\u001b[0m \u001b[38;5;28;01mif\u001b[39;00m out \u001b[38;5;129;01mis\u001b[39;00m \u001b[38;5;129;01mnot\u001b[39;00m \u001b[38;5;28;01mNone\u001b[39;00m:\n\u001b[0;32m   3826\u001b[0m     \u001b[38;5;28;01mreturn\u001b[39;00m out\n",
      "File \u001b[1;32m~\\AppData\\Local\\Programs\\Python\\Python312\\Lib\\site-packages\\numpy\\lib\\function_base.py:4721\u001b[0m, in \u001b[0;36m_quantile_ureduce_func\u001b[1;34m(a, q, axis, out, overwrite_input, method)\u001b[0m\n\u001b[0;32m   4719\u001b[0m     \u001b[38;5;28;01melse\u001b[39;00m:\n\u001b[0;32m   4720\u001b[0m         arr \u001b[38;5;241m=\u001b[39m a\u001b[38;5;241m.\u001b[39mcopy()\n\u001b[1;32m-> 4721\u001b[0m result \u001b[38;5;241m=\u001b[39m \u001b[43m_quantile\u001b[49m\u001b[43m(\u001b[49m\u001b[43marr\u001b[49m\u001b[43m,\u001b[49m\n\u001b[0;32m   4722\u001b[0m \u001b[43m                   \u001b[49m\u001b[43mquantiles\u001b[49m\u001b[38;5;241;43m=\u001b[39;49m\u001b[43mq\u001b[49m\u001b[43m,\u001b[49m\n\u001b[0;32m   4723\u001b[0m \u001b[43m                   \u001b[49m\u001b[43maxis\u001b[49m\u001b[38;5;241;43m=\u001b[39;49m\u001b[43maxis\u001b[49m\u001b[43m,\u001b[49m\n\u001b[0;32m   4724\u001b[0m \u001b[43m                   \u001b[49m\u001b[43mmethod\u001b[49m\u001b[38;5;241;43m=\u001b[39;49m\u001b[43mmethod\u001b[49m\u001b[43m,\u001b[49m\n\u001b[0;32m   4725\u001b[0m \u001b[43m                   \u001b[49m\u001b[43mout\u001b[49m\u001b[38;5;241;43m=\u001b[39;49m\u001b[43mout\u001b[49m\u001b[43m)\u001b[49m\n\u001b[0;32m   4726\u001b[0m \u001b[38;5;28;01mreturn\u001b[39;00m result\n",
      "File \u001b[1;32m~\\AppData\\Local\\Programs\\Python\\Python312\\Lib\\site-packages\\numpy\\lib\\function_base.py:4840\u001b[0m, in \u001b[0;36m_quantile\u001b[1;34m(arr, quantiles, axis, method, out)\u001b[0m\n\u001b[0;32m   4838\u001b[0m     result_shape \u001b[38;5;241m=\u001b[39m virtual_indexes\u001b[38;5;241m.\u001b[39mshape \u001b[38;5;241m+\u001b[39m (\u001b[38;5;241m1\u001b[39m,) \u001b[38;5;241m*\u001b[39m (arr\u001b[38;5;241m.\u001b[39mndim \u001b[38;5;241m-\u001b[39m \u001b[38;5;241m1\u001b[39m)\n\u001b[0;32m   4839\u001b[0m     gamma \u001b[38;5;241m=\u001b[39m gamma\u001b[38;5;241m.\u001b[39mreshape(result_shape)\n\u001b[1;32m-> 4840\u001b[0m     result \u001b[38;5;241m=\u001b[39m \u001b[43m_lerp\u001b[49m\u001b[43m(\u001b[49m\u001b[43mprevious\u001b[49m\u001b[43m,\u001b[49m\n\u001b[0;32m   4841\u001b[0m \u001b[43m                   \u001b[49m\u001b[38;5;28;43mnext\u001b[39;49m\u001b[43m,\u001b[49m\n\u001b[0;32m   4842\u001b[0m \u001b[43m                   \u001b[49m\u001b[43mgamma\u001b[49m\u001b[43m,\u001b[49m\n\u001b[0;32m   4843\u001b[0m \u001b[43m                   \u001b[49m\u001b[43mout\u001b[49m\u001b[38;5;241;43m=\u001b[39;49m\u001b[43mout\u001b[49m\u001b[43m)\u001b[49m\n\u001b[0;32m   4844\u001b[0m \u001b[38;5;28;01mif\u001b[39;00m np\u001b[38;5;241m.\u001b[39many(slices_having_nans):\n\u001b[0;32m   4845\u001b[0m     \u001b[38;5;28;01mif\u001b[39;00m result\u001b[38;5;241m.\u001b[39mndim \u001b[38;5;241m==\u001b[39m \u001b[38;5;241m0\u001b[39m \u001b[38;5;129;01mand\u001b[39;00m out \u001b[38;5;129;01mis\u001b[39;00m \u001b[38;5;28;01mNone\u001b[39;00m:\n\u001b[0;32m   4846\u001b[0m         \u001b[38;5;66;03m# can't write to a scalar, but indexing will be correct\u001b[39;00m\n",
      "File \u001b[1;32m~\\AppData\\Local\\Programs\\Python\\Python312\\Lib\\site-packages\\numpy\\lib\\function_base.py:4655\u001b[0m, in \u001b[0;36m_lerp\u001b[1;34m(a, b, t, out)\u001b[0m\n\u001b[0;32m   4641\u001b[0m \u001b[38;5;28;01mdef\u001b[39;00m \u001b[38;5;21m_lerp\u001b[39m(a, b, t, out\u001b[38;5;241m=\u001b[39m\u001b[38;5;28;01mNone\u001b[39;00m):\n\u001b[0;32m   4642\u001b[0m \u001b[38;5;250m    \u001b[39m\u001b[38;5;124;03m\"\"\"\u001b[39;00m\n\u001b[0;32m   4643\u001b[0m \u001b[38;5;124;03m    Compute the linear interpolation weighted by gamma on each point of\u001b[39;00m\n\u001b[0;32m   4644\u001b[0m \u001b[38;5;124;03m    two same shape array.\u001b[39;00m\n\u001b[1;32m   (...)\u001b[0m\n\u001b[0;32m   4653\u001b[0m \u001b[38;5;124;03m        Output array.\u001b[39;00m\n\u001b[0;32m   4654\u001b[0m \u001b[38;5;124;03m    \"\"\"\u001b[39;00m\n\u001b[1;32m-> 4655\u001b[0m     diff_b_a \u001b[38;5;241m=\u001b[39m \u001b[43msubtract\u001b[49m\u001b[43m(\u001b[49m\u001b[43mb\u001b[49m\u001b[43m,\u001b[49m\u001b[43m \u001b[49m\u001b[43ma\u001b[49m\u001b[43m)\u001b[49m\n\u001b[0;32m   4656\u001b[0m     \u001b[38;5;66;03m# asanyarray is a stop-gap until gh-13105\u001b[39;00m\n\u001b[0;32m   4657\u001b[0m     lerp_interpolation \u001b[38;5;241m=\u001b[39m asanyarray(add(a, diff_b_a \u001b[38;5;241m*\u001b[39m t, out\u001b[38;5;241m=\u001b[39mout))\n",
      "\u001b[1;31mTypeError\u001b[0m: unsupported operand type(s) for -: 'str' and 'str'"
     ]
    }
   ],
   "source": [
    "for i in df.columns:\n",
    "    lower_range,upper_range = remove_outliers(df[i])\n",
    "    df[i] =np.where(df[i] > upper_range,upper_range,df[i])\n",
    "    df[i]= np.where(df[i] < lower_range,lower_range,df[i])"
   ]
  },
  {
   "cell_type": "code",
   "execution_count": null,
   "id": "20280043-3fa3-4486-bee5-0014f516bde5",
   "metadata": {},
   "outputs": [],
   "source": [
    "# check the Outliers \n",
    "num_colums =df.select_dtypes(include = ['int64','float64'])\n",
    "plt.figure(figsize=(15,6))\n",
    "\n",
    "#num_colums.boxplot()\n",
    "sns.boxplot(data = num_colums)\n",
    "plt.show()"
   ]
  },
  {
   "cell_type": "markdown",
   "id": "1f383987-dad7-44ec-915e-fe444cc595eb",
   "metadata": {},
   "source": [
    "## Bivariat Analysis "
   ]
  },
  {
   "cell_type": "code",
   "execution_count": null,
   "id": "f3ab6fc3-ca54-4a59-bf17-433289794e4a",
   "metadata": {},
   "outputs": [],
   "source": [
    "plt.figure(figsize=(10,6))\n",
    "sns.regplot(x=\"First_innings_score\",y=\"First_innings_wkts\",data=df)\n",
    "plt.show()\n",
    "            "
   ]
  },
  {
   "cell_type": "code",
   "execution_count": null,
   "id": "3c2a790f-4614-486b-b966-473811c2dc04",
   "metadata": {},
   "outputs": [],
   "source": [
    "plt.figure(figsize=(10,6))\n",
    "sns.regplot(x=\"Second_innings_score\",y=\"Second_innings_wkts\",data=df)\n",
    "plt.show()\n",
    "            "
   ]
  },
  {
   "cell_type": "code",
   "execution_count": null,
   "id": "e06177a0-f6ef-4628-8a43-9f4394572dbf",
   "metadata": {},
   "outputs": [],
   "source": [
    "sns.pairplot(df)\n",
    "plt.show()"
   ]
  },
  {
   "cell_type": "markdown",
   "id": "7be60fba-ee01-4347-9a5d-97107e85dbd7",
   "metadata": {},
   "source": [
    "# 6. Feature Engineering "
   ]
  },
  {
   "cell_type": "code",
   "execution_count": 5,
   "id": "ea7fe38c-3805-45d6-9642-b9499cc84e3a",
   "metadata": {},
   "outputs": [],
   "source": [
    "x = df.iloc[:,7:11] # positive Indexing \n",
    "x.fillna(0, inplace=True)"
   ]
  },
  {
   "cell_type": "code",
   "execution_count": 6,
   "id": "9649362a-7ab2-4b79-8deb-04c7afef9113",
   "metadata": {},
   "outputs": [
    {
     "data": {
      "text/html": [
       "<div>\n",
       "<style scoped>\n",
       "    .dataframe tbody tr th:only-of-type {\n",
       "        vertical-align: middle;\n",
       "    }\n",
       "\n",
       "    .dataframe tbody tr th {\n",
       "        vertical-align: top;\n",
       "    }\n",
       "\n",
       "    .dataframe thead th {\n",
       "        text-align: right;\n",
       "    }\n",
       "</style>\n",
       "<table border=\"1\" class=\"dataframe\">\n",
       "  <thead>\n",
       "    <tr style=\"text-align: right;\">\n",
       "      <th></th>\n",
       "      <th>First_innings_score</th>\n",
       "      <th>First_innings_wkts</th>\n",
       "      <th>Second_innings_score</th>\n",
       "      <th>Second_innings_wkts</th>\n",
       "    </tr>\n",
       "  </thead>\n",
       "  <tbody>\n",
       "    <tr>\n",
       "      <th>0</th>\n",
       "      <td>259</td>\n",
       "      <td>9</td>\n",
       "      <td>256.0</td>\n",
       "      <td>10.0</td>\n",
       "    </tr>\n",
       "    <tr>\n",
       "      <th>1</th>\n",
       "      <td>207</td>\n",
       "      <td>10</td>\n",
       "      <td>175.0</td>\n",
       "      <td>10.0</td>\n",
       "    </tr>\n",
       "    <tr>\n",
       "      <th>2</th>\n",
       "      <td>310</td>\n",
       "      <td>3</td>\n",
       "      <td>298.0</td>\n",
       "      <td>8.0</td>\n",
       "    </tr>\n",
       "    <tr>\n",
       "      <th>3</th>\n",
       "      <td>244</td>\n",
       "      <td>7</td>\n",
       "      <td>137.0</td>\n",
       "      <td>10.0</td>\n",
       "    </tr>\n",
       "    <tr>\n",
       "      <th>4</th>\n",
       "      <td>140</td>\n",
       "      <td>8</td>\n",
       "      <td>144.0</td>\n",
       "      <td>1.0</td>\n",
       "    </tr>\n",
       "  </tbody>\n",
       "</table>\n",
       "</div>"
      ],
      "text/plain": [
       "   First_innings_score  First_innings_wkts  Second_innings_score  \\\n",
       "0                  259                   9                 256.0   \n",
       "1                  207                  10                 175.0   \n",
       "2                  310                   3                 298.0   \n",
       "3                  244                   7                 137.0   \n",
       "4                  140                   8                 144.0   \n",
       "\n",
       "   Second_innings_wkts  \n",
       "0                 10.0  \n",
       "1                 10.0  \n",
       "2                  8.0  \n",
       "3                 10.0  \n",
       "4                  1.0  "
      ]
     },
     "execution_count": 6,
     "metadata": {},
     "output_type": "execute_result"
    }
   ],
   "source": [
    "x.head()"
   ]
  },
  {
   "cell_type": "code",
   "execution_count": 7,
   "id": "d7ce2921-6802-4c2e-b9b1-2bf4ce40cbed",
   "metadata": {},
   "outputs": [],
   "source": [
    "y = df.iloc[:,-4] # Negative Indexing \n",
    "y.fillna(0, inplace=True)"
   ]
  },
  {
   "cell_type": "code",
   "execution_count": 8,
   "id": "23b25eb7-b22f-4765-b085-57ce9c80768a",
   "metadata": {},
   "outputs": [
    {
     "data": {
      "text/plain": [
       "0    256.0\n",
       "1    175.0\n",
       "2    298.0\n",
       "3    137.0\n",
       "4    144.0\n",
       "Name: Second_innings_score, dtype: float64"
      ]
     },
     "execution_count": 8,
     "metadata": {},
     "output_type": "execute_result"
    }
   ],
   "source": [
    "y.head()"
   ]
  },
  {
   "cell_type": "code",
   "execution_count": 9,
   "id": "5588d95d-1a5d-4520-bdc1-adfe65f58eee",
   "metadata": {},
   "outputs": [
    {
     "data": {
      "text/plain": [
       "First_innings_wkts      0.000000\n",
       "Second_innings_wkts     0.113613\n",
       "First_innings_score     0.699625\n",
       "Second_innings_score    2.102514\n",
       "dtype: float64"
      ]
     },
     "execution_count": 9,
     "metadata": {},
     "output_type": "execute_result"
    }
   ],
   "source": [
    "from sklearn.feature_selection import mutual_info_regression\n",
    "match = mutual_info_regression(x,y)\n",
    "match =pd.Series(match)\n",
    "match.index=x.columns\n",
    "match.sort_values(ascending=True)"
   ]
  },
  {
   "cell_type": "code",
   "execution_count": 10,
   "id": "94a2ff7b-6faf-469f-b3f7-9edc95f2b966",
   "metadata": {},
   "outputs": [
    {
     "data": {
      "text/plain": [
       "<Axes: >"
      ]
     },
     "execution_count": 10,
     "metadata": {},
     "output_type": "execute_result"
    },
    {
     "data": {
      "image/png": "[encoded data removed]",
      "text/plain": [
       "<Figure size 800x400 with 1 Axes>"
      ]
     },
     "metadata": {},
     "output_type": "display_data"
    }
   ],
   "source": [
    "colors = ['salmon','goldenrod','teal']\n",
    "match.sort_values(ascending = False).plot.bar(figsize=(8,4),color=colors)"
   ]
  },
  {
   "cell_type": "code",
   "execution_count": 13,
   "id": "5c0ea575-9582-4025-b325-8877c0818067",
   "metadata": {},
   "outputs": [],
   "source": [
    "# Assuming 'x' is a DataFrame\n",
    "X=x[[\"Second_innings_score\", \"First_innings_score\"]]"
   ]
  },
  {
   "cell_type": "markdown",
   "id": "13b3775e-0131-4381-938a-93832c59285d",
   "metadata": {},
   "source": [
    "### Splitting Data Train and Test"
   ]
  },
  {
   "cell_type": "code",
   "execution_count": 16,
   "id": "03945c14-ae29-4a0f-b77a-5032588370d7",
   "metadata": {},
   "outputs": [],
   "source": [
    "from sklearn.model_selection import train_test_split\n",
    "\n",
    "train_data, test_data, train_label, test_label = train_test_split(X, y, test_size=0.2, random_state=0)\n"
   ]
  },
  {
   "cell_type": "code",
   "execution_count": 17,
   "id": "4888ceb4-3073-4ee5-950e-a0c649ea70a3",
   "metadata": {},
   "outputs": [
    {
     "name": "stdout",
     "output_type": "stream",
     "text": [
      "train_data :  (24, 2)\n",
      "train_label :  (24,)\n",
      "test_data :  (7, 2)\n",
      "test_label :  (7,)\n"
     ]
    }
   ],
   "source": [
    "print(\"train_data : \",train_data.shape)\n",
    "print(\"train_label : \",train_label.shape)\n",
    "print(\"test_data : \",test_data.shape)\n",
    "print(\"test_label : \",test_label.shape)"
   ]
  },
  {
   "cell_type": "code",
   "execution_count": 22,
   "id": "6382af01-6a9e-48a2-8530-40109d65582d",
   "metadata": {},
   "outputs": [],
   "source": [
    "sc=StandardScaler()\n",
    "train_data_sc = sc.fit_transform(train_data)\n",
    "test_data_sc = sc.fit_transform(test_data)\n"
   ]
  },
  {
   "cell_type": "code",
   "execution_count": 24,
   "id": "eb4e4a00-fcf4-4d50-97db-f2f83c4703c6",
   "metadata": {},
   "outputs": [
    {
     "data": {
      "text/plain": [
       "(24, 2)"
      ]
     },
     "execution_count": 24,
     "metadata": {},
     "output_type": "execute_result"
    }
   ],
   "source": [
    "train_data_sc.shape"
   ]
  },
  {
   "cell_type": "markdown",
   "id": "8559267d-4194-4324-a29a-aa2cda1f2463",
   "metadata": {},
   "source": [
    "# 7 Model\n"
   ]
  },
  {
   "cell_type": "markdown",
   "id": "ee4d50c2-ebaa-4e57-bcb4-47a4187826c4",
   "metadata": {},
   "source": [
    "### Linear Model "
   ]
  },
  {
   "cell_type": "code",
   "execution_count": 25,
   "id": "d1546c0d-c5b9-4e56-87d0-1b23c801413d",
   "metadata": {},
   "outputs": [],
   "source": [
    "model_lr =LinearRegression().fit(train_data_sc,train_label)"
   ]
  },
  {
   "cell_type": "code",
   "execution_count": 26,
   "id": "b5729151-00e8-4ad9-ae65-29cc2cddd6de",
   "metadata": {},
   "outputs": [
    {
     "data": {
      "text/plain": [
       "1.0"
      ]
     },
     "execution_count": 26,
     "metadata": {},
     "output_type": "execute_result"
    }
   ],
   "source": [
    "model_lr.score(train_data_sc,train_label)"
   ]
  },
  {
   "cell_type": "code",
   "execution_count": 27,
   "id": "e0425113-1414-427d-abea-8eb9a3f8bbdd",
   "metadata": {},
   "outputs": [
    {
     "data": {
      "text/plain": [
       "array([262.96133753, 177.0058342 , 162.4781435 , 160.05686172,\n",
       "       249.03896727, 200.00801115,  82.57584464])"
      ]
     },
     "execution_count": 27,
     "metadata": {},
     "output_type": "execute_result"
    }
   ],
   "source": [
    "y_pred =model_lr.predict(test_data_sc)\n",
    "y_pred"
   ]
  },
  {
   "cell_type": "code",
   "execution_count": 28,
   "id": "46d69e1f-dead-4329-8e18-6495b1ee0664",
   "metadata": {},
   "outputs": [
    {
     "name": "stdout",
     "output_type": "stream",
     "text": [
      "Mean Absolute Error :  33.30348434363084\n",
      "Mean Squared Error :  1593.479155472712\n",
      "R2_Score :  0.49500615198481324\n"
     ]
    }
   ],
   "source": [
    "print(\"Mean Absolute Error : \",mean_absolute_error(y_pred,test_label))\n",
    "print(\"Mean Squared Error : \",mean_squared_error(y_pred,test_label))\n",
    "print(\"R2_Score : \",r2_score(y_pred,test_label))"
   ]
  },
  {
   "cell_type": "code",
   "execution_count": 30,
   "id": "a860056f-da0e-49c2-a3e7-1a2b8914789c",
   "metadata": {},
   "outputs": [
    {
     "name": "stdout",
     "output_type": "stream",
     "text": [
      "Train Data Cross_val_Score :  nan\n",
      "Test Data Cross_val_score :  nan\n"
     ]
    },
    {
     "name": "stderr",
     "output_type": "stream",
     "text": [
      "C:\\Users\\prasa\\AppData\\Local\\Programs\\Python\\Python312\\Lib\\site-packages\\sklearn\\metrics\\_regression.py:996: UndefinedMetricWarning: R^2 score is not well-defined with less than two samples.\n",
      "  warnings.warn(msg, UndefinedMetricWarning)\n",
      "C:\\Users\\prasa\\AppData\\Local\\Programs\\Python\\Python312\\Lib\\site-packages\\sklearn\\metrics\\_regression.py:996: UndefinedMetricWarning: R^2 score is not well-defined with less than two samples.\n",
      "  warnings.warn(msg, UndefinedMetricWarning)\n",
      "C:\\Users\\prasa\\AppData\\Local\\Programs\\Python\\Python312\\Lib\\site-packages\\sklearn\\metrics\\_regression.py:996: UndefinedMetricWarning: R^2 score is not well-defined with less than two samples.\n",
      "  warnings.warn(msg, UndefinedMetricWarning)\n",
      "C:\\Users\\prasa\\AppData\\Local\\Programs\\Python\\Python312\\Lib\\site-packages\\sklearn\\metrics\\_regression.py:996: UndefinedMetricWarning: R^2 score is not well-defined with less than two samples.\n",
      "  warnings.warn(msg, UndefinedMetricWarning)\n",
      "C:\\Users\\prasa\\AppData\\Local\\Programs\\Python\\Python312\\Lib\\site-packages\\sklearn\\metrics\\_regression.py:996: UndefinedMetricWarning: R^2 score is not well-defined with less than two samples.\n",
      "  warnings.warn(msg, UndefinedMetricWarning)\n",
      "C:\\Users\\prasa\\AppData\\Local\\Programs\\Python\\Python312\\Lib\\site-packages\\sklearn\\metrics\\_regression.py:996: UndefinedMetricWarning: R^2 score is not well-defined with less than two samples.\n",
      "  warnings.warn(msg, UndefinedMetricWarning)\n",
      "C:\\Users\\prasa\\AppData\\Local\\Programs\\Python\\Python312\\Lib\\site-packages\\sklearn\\metrics\\_regression.py:996: UndefinedMetricWarning: R^2 score is not well-defined with less than two samples.\n",
      "  warnings.warn(msg, UndefinedMetricWarning)\n",
      "C:\\Users\\prasa\\AppData\\Local\\Programs\\Python\\Python312\\Lib\\site-packages\\sklearn\\metrics\\_regression.py:996: UndefinedMetricWarning: R^2 score is not well-defined with less than two samples.\n",
      "  warnings.warn(msg, UndefinedMetricWarning)\n",
      "C:\\Users\\prasa\\AppData\\Local\\Programs\\Python\\Python312\\Lib\\site-packages\\sklearn\\metrics\\_regression.py:996: UndefinedMetricWarning: R^2 score is not well-defined with less than two samples.\n",
      "  warnings.warn(msg, UndefinedMetricWarning)\n",
      "C:\\Users\\prasa\\AppData\\Local\\Programs\\Python\\Python312\\Lib\\site-packages\\sklearn\\metrics\\_regression.py:996: UndefinedMetricWarning: R^2 score is not well-defined with less than two samples.\n",
      "  warnings.warn(msg, UndefinedMetricWarning)\n"
     ]
    }
   ],
   "source": [
    "print(\"Train Data Cross_val_Score : \",cross_val_score(model_lr,test_data_sc,test_label,cv=6).mean())\n",
    "print(\"Test Data Cross_val_score : \",cross_val_score(model_lr,test_data_sc,test_label,cv=6).mean())"
   ]
  },
  {
   "cell_type": "code",
   "execution_count": 33,
   "id": "4f2d9f6b-c868-4a8c-9fcb-c004f04c740e",
   "metadata": {},
   "outputs": [
    {
     "data": {
      "text/plain": [
       "[<matplotlib.lines.Line2D at 0x21a13a60c20>]"
      ]
     },
     "execution_count": 33,
     "metadata": {},
     "output_type": "execute_result"
    },
    {
     "data": {
      "image/png": "[encoded data removed]",
      "text/plain": [
       "<Figure size 1000x600 with 1 Axes>"
      ]
     },
     "metadata": {},
     "output_type": "display_data"
    }
   ],
   "source": [
    "plt.figure(figsize=(10,6))\n",
    "plt.scatter(test_label,y_pred)\n",
    "plt.plot(test_label,test_label,'hotpink')"
   ]
  },
  {
   "cell_type": "markdown",
   "id": "358467e8-3907-4212-a5b2-9a46ef21a965",
   "metadata": {},
   "source": [
    "## Random Forest Model"
   ]
  },
  {
   "cell_type": "code",
   "execution_count": 39,
   "id": "2821e533-7e2e-4e8c-8a9e-5b2b684b14e7",
   "metadata": {},
   "outputs": [
    {
     "name": "stdout",
     "output_type": "stream",
     "text": [
      "Mean Absolute Error :  34.82285714285714\n",
      "Mean Squared Error :  1944.9928\n",
      "R2_Score :  0.3255507143482185\n"
     ]
    }
   ],
   "source": [
    "model_rf = RandomForestRegressor().fit(train_data_sc,train_label)\n",
    "y_pred_2=model_rf.predict(test_data_sc)"
   ]
  },
  {
   "cell_type": "code",
   "execution_count": 40,
   "id": "a74e23cc-3ece-4839-9a08-265e21e185c5",
   "metadata": {},
   "outputs": [
    {
     "name": "stdout",
     "output_type": "stream",
     "text": [
      "Mean Absolute Error :  34.82285714285714\n",
      "Mean Squared Error :  1944.9928\n",
      "R2_Score :  0.3255507143482185\n"
     ]
    }
   ],
   "source": [
    "print(\"Mean Absolute Error : \",mean_absolute_error(y_pred_2,test_label))\n",
    "print(\"Mean Squared Error : \",mean_squared_error(y_pred_2,test_label))\n",
    "print(\"R2_Score : \",r2_score(y_pred_2,test_label))"
   ]
  },
  {
   "cell_type": "code",
   "execution_count": 47,
   "id": "3812fc28-9498-47f8-984b-a8c0ff168850",
   "metadata": {},
   "outputs": [
    {
     "name": "stdout",
     "output_type": "stream",
     "text": [
      "Train Data Cross_val_score :  0.9422192762102217\n"
     ]
    },
    {
     "name": "stderr",
     "output_type": "stream",
     "text": [
      "C:\\Users\\prasa\\AppData\\Local\\Programs\\Python\\Python312\\Lib\\site-packages\\sklearn\\metrics\\_regression.py:996: UndefinedMetricWarning: R^2 score is not well-defined with less than two samples.\n",
      "  warnings.warn(msg, UndefinedMetricWarning)\n",
      "C:\\Users\\prasa\\AppData\\Local\\Programs\\Python\\Python312\\Lib\\site-packages\\sklearn\\metrics\\_regression.py:996: UndefinedMetricWarning: R^2 score is not well-defined with less than two samples.\n",
      "  warnings.warn(msg, UndefinedMetricWarning)\n"
     ]
    },
    {
     "name": "stdout",
     "output_type": "stream",
     "text": [
      "Test Data Cross_val_score :  nan\n"
     ]
    },
    {
     "name": "stderr",
     "output_type": "stream",
     "text": [
      "C:\\Users\\prasa\\AppData\\Local\\Programs\\Python\\Python312\\Lib\\site-packages\\sklearn\\metrics\\_regression.py:996: UndefinedMetricWarning: R^2 score is not well-defined with less than two samples.\n",
      "  warnings.warn(msg, UndefinedMetricWarning)\n"
     ]
    }
   ],
   "source": [
    "print(\"Train Data Cross_val_score : \",cross_val_score(model_rf,train_data_sc,train_label,cv=5).mean())\n",
    "print(\"Test Data Cross_val_score : \",cross_val_score(model_rf,test_data_sc,test_label,cv=5).mean())"
   ]
  },
  {
   "cell_type": "code",
   "execution_count": 43,
   "id": "07d4d1a5-0140-4f53-8198-9dfef2a674f4",
   "metadata": {},
   "outputs": [
    {
     "data": {
      "text/plain": [
       "[<matplotlib.lines.Line2D at 0x21a13a52b10>]"
      ]
     },
     "execution_count": 43,
     "metadata": {},
     "output_type": "execute_result"
    },
    {
     "data": {
      "image/png": "[encoded data removed]",
      "text/plain": [
       "<Figure size 1000x600 with 1 Axes>"
      ]
     },
     "metadata": {},
     "output_type": "display_data"
    }
   ],
   "source": [
    "plt.figure(figsize=(10,6))\n",
    "plt.scatter(test_label,y_pred_2)\n",
    "plt.plot(test_label,test_label,'green')"
   ]
  }
 ],
 "metadata": {
  "kernelspec": {
   "display_name": "Python 3 (ipykernel)",
   "language": "python",
   "name": "python3"
  },
  "language_info": {
   "codemirror_mode": {
    "name": "ipython",
    "version": 3
   },
   "file_extension": ".py",
   "mimetype": "text/x-python",
   "name": "python",
   "nbconvert_exporter": "python",
   "pygments_lexer": "ipython3",
   "version": "3.12.0"
  }
 },
 "nbformat": 4,
 "nbformat_minor": 5
}
